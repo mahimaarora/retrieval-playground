{
 "cells": [
  {
   "cell_type": "markdown",
   "metadata": {},
   "source": [
    "# 🔄 Query Rephrasing Techniques Demo\n",
    "\n",
    "This notebook demonstrates different query rephrasing techniques used in retrieval systems to improve search quality and relevance.  \n",
    "\n",
    "## 📝 Overview\n",
    "\n",
    "We'll explore four main query processing techniques:\n",
    "\n",
    "**🔍 Query Expansion** – Add synonyms, related terms, or contextual entities  \n",
    "**🪓 Query Decomposition** – Break compound queries into atomic sub-queries  \n",
    "**✏️ Query Rewriting** – Make context-dependent queries standalone  \n",
    "**🤖 Self-Querying** – Transform complex input into optimal search queries  "
   ]
  },
  {
   "cell_type": "code",
   "execution_count": 12,
   "metadata": {},
   "outputs": [
    {
     "name": "stdout",
     "output_type": "stream",
     "text": [
      "2025-09-16 16:43:08.359 INFO model_manager - _initialize_models: 🔄 ModelManager: Initializing shared AI models...\n"
     ]
    },
    {
     "name": "stderr",
     "output_type": "stream",
     "text": [
      "2025-09-16 16:43:08 - rp_logger - INFO - model_manager.py:61 - _initialize_models() - 🔄 ModelManager: Initializing shared AI models...\n",
      "2025-09-16 16:43:08 - sentence_transformers.SentenceTransformer - INFO - SentenceTransformer.py:219 - __init__() - Use pytorch device_name: mps\n",
      "2025-09-16 16:43:08 - sentence_transformers.SentenceTransformer - INFO - SentenceTransformer.py:227 - __init__() - Load pretrained SentenceTransformer: Qwen/Qwen3-Embedding-0.6B\n",
      "2025-09-16 16:43:17 - sentence_transformers.SentenceTransformer - INFO - SentenceTransformer.py:378 - __init__() - 1 prompt is loaded, with the key: query\n"
     ]
    },
    {
     "name": "stdout",
     "output_type": "stream",
     "text": [
      "2025-09-16 16:43:17.403 INFO model_manager - _initialize_models: ✅ ModelManager: Shared AI models initialized successfully\n"
     ]
    },
    {
     "name": "stderr",
     "output_type": "stream",
     "text": [
      "2025-09-16 16:43:17 - rp_logger - INFO - model_manager.py:77 - _initialize_models() - ✅ ModelManager: Shared AI models initialized successfully\n"
     ]
    }
   ],
   "source": [
    "# # Import required modules\n",
    "from retrieval_playground.src.pre_retrieval.query_rephrasing import (\n",
    "    expand_query,\n",
    "    decompose_query,\n",
    "    rewrite_query,\n",
    "    self_query,\n",
    "    QUERY_EXAMPLES\n",
    ")"
   ]
  },
  {
   "cell_type": "markdown",
   "metadata": {},
   "source": [
    "## 1. Query Expansion 🔍\n",
    "\n",
    "🎯 **Purpose**: Expand queries by replacing abbreviations, adding context, or enriching with domain-specific terms.\n",
    "\n",
    "🗒️ **When to use**: \n",
    "- Queries contain abbreviations or acronyms\n",
    "- Queries are too broad or vague\n",
    "- Queries lack domain-specific terms\n",
    "- Queries are incomplete questions or direct phrases\n"
   ]
  },
  {
   "cell_type": "code",
   "execution_count": 13,
   "metadata": {},
   "outputs": [
    {
     "name": "stdout",
     "output_type": "stream",
     "text": [
      "============================================================\n",
      "QUERY EXPANSION EXAMPLES\n",
      "============================================================\n",
      "\n",
      "1. Original Query:\n",
      "   'Generative AI transformer evaluation benchmarks'\n",
      "\n",
      "   Expanded Query:\n",
      "   'Benchmarks for evaluating large language models and other generative AI transformers'\n",
      "----------------------------------------\n",
      "\n",
      "2. Original Query:\n",
      "   'Retrieved capabilities of LLMs and FLOPs scaling'\n",
      "\n",
      "   Expanded Query:\n",
      "   'What are the retrieved capabilities of large language models (LLMs) and how do they scale with FLOPS?'\n",
      "----------------------------------------\n",
      "\n",
      "3. Original Query:\n",
      "   'AI models'\n",
      "\n",
      "   Expanded Query:\n",
      "   'What are the different types of AI models and their applications?'\n",
      "----------------------------------------\n",
      "\n",
      "4. Original Query:\n",
      "   'tell me about computer vision'\n",
      "\n",
      "   Expanded Query:\n",
      "   'What is computer vision and how does it work?'\n",
      "----------------------------------------\n",
      "\n",
      "5. Original Query:\n",
      "   'Physics-informed neural network for fatigue life prediction'\n",
      "\n",
      "   Expanded Query:\n",
      "   'Physics-informed neural networks for predicting fatigue life of materials'\n",
      "----------------------------------------\n"
     ]
    }
   ],
   "source": [
    "print(\"=\" * 60)\n",
    "print(\"QUERY EXPANSION EXAMPLES\")\n",
    "print(\"=\" * 60)\n",
    "\n",
    "expansion_examples = QUERY_EXAMPLES[\"expansion\"]\n",
    "\n",
    "for i, example in enumerate(expansion_examples, 1):\n",
    "    query = example[\"query\"]\n",
    "    print(f\"\\n{i}. Original Query:\")\n",
    "    print(f\"   '{query}'\")\n",
    "    \n",
    "    try:\n",
    "        expanded = expand_query(query)\n",
    "        print(f\"\\n   Expanded Query:\")\n",
    "        print(f\"   '{expanded}'\")\n",
    "    except Exception as e:\n",
    "        print(f\"   Error: {e}\")\n",
    "    \n",
    "    print(\"-\" * 40)\n"
   ]
  },
  {
   "cell_type": "markdown",
   "metadata": {},
   "source": [
    "## 2. Query Decomposition 🪓\n",
    "\n",
    "🎯 **Purpose**: Break down complex queries with multiple intents into smaller, atomic sub-queries.\n",
    "\n",
    "🗒️ **When to use**:\n",
    "- Queries contain multiple questions or intents\n",
    "- Compound queries that can be better answered separately\n",
    "- Complex queries that need to be processed independently\n"
   ]
  },
  {
   "cell_type": "code",
   "execution_count": 14,
   "metadata": {},
   "outputs": [
    {
     "name": "stdout",
     "output_type": "stream",
     "text": [
      "============================================================\n",
      "QUERY DECOMPOSITION EXAMPLES\n",
      "============================================================\n",
      "\n",
      "1. Original Complex Query:\n",
      "   'What are neural networks and how do they work in computer vision applications?'\n",
      "\n",
      "   Decomposed Sub-queries:\n",
      "   1. ```python\n",
      "   2. ['What are neural networks?', 'How do neural networks work in computer vision applications?']\n",
      "   3. ```\n",
      "----------------------------------------\n",
      "\n",
      "2. Original Complex Query:\n",
      "   'Explain machine learning algorithms, their types, and performance evaluation metrics'\n",
      "\n",
      "   Decomposed Sub-queries:\n",
      "   1. ```python\n",
      "   2. ['Explain machine learning algorithms', 'What are the types of machine learning algorithms?', 'Explain performance evaluation metrics for machine learning algorithms']\n",
      "   3. ```\n",
      "----------------------------------------\n",
      "\n",
      "3. Original Complex Query:\n",
      "   'What is generative AI, what are its applications, and what are the ethical considerations?'\n",
      "\n",
      "   Decomposed Sub-queries:\n",
      "   1. ```python\n",
      "   2. ['What is generative AI?', 'What are the applications of generative AI?', 'What are the ethical considerations of generative AI?']\n",
      "   3. ```\n",
      "----------------------------------------\n",
      "\n",
      "4. Original Complex Query:\n",
      "   'How do statistical models work and what are their advantages over machine learning approaches?'\n",
      "\n",
      "   Decomposed Sub-queries:\n",
      "   1. ```python\n",
      "   2. ['How do statistical models work?', 'What are the advantages of statistical models over machine learning approaches?']\n",
      "   3. ```\n",
      "----------------------------------------\n",
      "\n",
      "5. Original Complex Query:\n",
      "   'What are the latest advances in computer vision and how do they apply to remote sensing?'\n",
      "\n",
      "   Decomposed Sub-queries:\n",
      "   1. ```python\n",
      "   2. ['What are the latest advances in computer vision?', 'How do the latest advances in computer vision apply to remote sensing?']\n",
      "   3. ```\n",
      "----------------------------------------\n"
     ]
    }
   ],
   "source": [
    "print(\"=\" * 60)\n",
    "print(\"QUERY DECOMPOSITION EXAMPLES\")\n",
    "print(\"=\" * 60)\n",
    "\n",
    "decomposition_examples = QUERY_EXAMPLES[\"decomposition\"]\n",
    "\n",
    "for i, example in enumerate(decomposition_examples, 1):\n",
    "    query = example[\"query\"]\n",
    "    print(f\"\\n{i}. Original Complex Query:\")\n",
    "    print(f\"   '{query}'\")\n",
    "    \n",
    "    try:\n",
    "        sub_queries = decompose_query(query)\n",
    "        print(f\"\\n   Decomposed Sub-queries:\")\n",
    "        for j, sub_query in enumerate(sub_queries, 1):\n",
    "            print(f\"   {j}. {sub_query}\")\n",
    "    except Exception as e:\n",
    "        print(f\"   Error: {e}\")\n",
    "    \n",
    "    print(\"-\" * 40)\n"
   ]
  },
  {
   "cell_type": "markdown",
   "metadata": {},
   "source": [
    "## 3. Query Rewriting ✏️\n",
    "\n",
    "🎯 **Purpose**: Transform context-dependent queries into standalone queries suitable for retrieval.\n",
    "\n",
    "🗒️ **When to use**:\n",
    "- Queries contain pronouns or references to previous context\n",
    "- Follow-up questions in conversations\n",
    "- Incomplete queries that depend on prior information\n"
   ]
  },
  {
   "cell_type": "code",
   "execution_count": 15,
   "metadata": {},
   "outputs": [
    {
     "name": "stdout",
     "output_type": "stream",
     "text": [
      "============================================================\n",
      "QUERY REWRITING EXAMPLES\n",
      "============================================================\n",
      "\n",
      "1. Context-Dependent Query:\n",
      "   'How does it work?'\n",
      "\n",
      "   Previous Context:\n",
      "   User asked about counterfactual generation in machine learning. Assistant explained that it's a method for creating hypothetical scenarios to understand causal relationships in data.\n",
      "\n",
      "   Standalone Query:\n",
      "   'How does counterfactual generation in machine learning work?'\n",
      "----------------------------------------\n",
      "\n",
      "2. Context-Dependent Query:\n",
      "   'What are the main advantages?'\n",
      "\n",
      "   Previous Context:\n",
      "   User inquired about Riemannian manifolds for change point detection. Assistant described how these mathematical structures can capture complex data geometries for robust statistical analysis.\n",
      "\n",
      "   Standalone Query:\n",
      "   'What are the main advantages of using Riemannian manifolds for change point detection?'\n",
      "----------------------------------------\n",
      "\n",
      "3. Context-Dependent Query:\n",
      "   'Can you explain the methodology?'\n",
      "\n",
      "   Previous Context:\n",
      "   User asked about publication bias in meta-analysis research. Assistant mentioned that Copas-Jackson bounds are statistical techniques used to assess and correct for selective reporting in academic studies.\n",
      "\n",
      "   Standalone Query:\n",
      "   'Explain the Copas-Jackson bounds methodology.'\n",
      "----------------------------------------\n",
      "\n",
      "4. Context-Dependent Query:\n",
      "   'What about the computational complexity?'\n",
      "\n",
      "   Previous Context:\n",
      "   User was learning about state space models in generative AI. Assistant explained that these models represent sequential data through hidden states and observable outputs.\n",
      "\n",
      "   Standalone Query:\n",
      "   'What is the computational complexity of state space models in generative AI?'\n",
      "----------------------------------------\n",
      "\n",
      "5. Context-Dependent Query:\n",
      "   'How does this compare to traditional approaches?'\n",
      "\n",
      "   Previous Context:\n",
      "   User asked about annotation-free segmentation methods for remote sensing. Assistant described how these computer vision techniques can identify objects without requiring manually labeled training data.\n",
      "\n",
      "   Standalone Query:\n",
      "   'How do annotation-free segmentation methods for remote sensing compare to traditional remote sensing segmentation approaches?'\n",
      "----------------------------------------\n"
     ]
    }
   ],
   "source": [
    "print(\"=\" * 60)\n",
    "print(\"QUERY REWRITING EXAMPLES\")\n",
    "print(\"=\" * 60)\n",
    "\n",
    "rewriting_examples = QUERY_EXAMPLES[\"rewriting\"]\n",
    "\n",
    "for i, example in enumerate(rewriting_examples, 1):\n",
    "    query = example[\"query\"]\n",
    "    context = example[\"previous_conversation_history\"]\n",
    "    \n",
    "    print(f\"\\n{i}. Context-Dependent Query:\")\n",
    "    print(f\"   '{query}'\")\n",
    "    \n",
    "    print(f\"\\n   Previous Context:\")\n",
    "    print(f\"   {context}\")\n",
    "    \n",
    "    try:\n",
    "        rewritten = rewrite_query(query, context)\n",
    "        print(f\"\\n   Standalone Query:\")\n",
    "        print(f\"   '{rewritten}'\")\n",
    "    except Exception as e:\n",
    "        print(f\"   Error: {e}\")\n",
    "    \n",
    "    print(\"-\" * 40)\n"
   ]
  },
  {
   "cell_type": "markdown",
   "metadata": {},
   "source": [
    "## 4. Self-Querying 🤖\n",
    "\n",
    "🎯 **Purpose**: Transform complex user input into optimal search queries for retrieval.\n",
    "\n",
    "🗒️ **When to use**:\n",
    "- Complex, multi-faceted user requests\n",
    "- When you need to generate multiple focused search queries\n",
    "- To optimize retrieval by creating targeted queries\n"
   ]
  },
  {
   "cell_type": "code",
   "execution_count": 16,
   "metadata": {
    "scrolled": true
   },
   "outputs": [
    {
     "name": "stdout",
     "output_type": "stream",
     "text": [
      "============================================================\n",
      "SELF-QUERYING EXAMPLES\n",
      "============================================================\n",
      "\n",
      "1. Complex User Input:\n",
      "   'I need to understand the current state of research in computer vision, particularly focusing on segmentation techniques for remote sensing applications. What are the key papers and methodologies?'\n",
      "\n",
      "   Optimal Search Queries:\n",
      "   1. ```python\n",
      "   2. [\n",
      "   3. \"computer vision research trends segmentation remote sensing\",\n",
      "   4. \"remote sensing image segmentation techniques review\",\n",
      "   5. \"key papers computer vision segmentation remote sensing\",\n",
      "   6. \"methodologies for remote sensing image segmentation\",\n",
      "   7. \"deep learning segmentation remote sensing applications\",\n",
      "   8. \"computer vision segmentation algorithms remote sensing\",\n",
      "   9. \"recent advances segmentation remote sensing imagery\",\n",
      "   10. \"benchmark datasets remote sensing image segmentation\",\n",
      "   11. \"comparison different segmentation algorithms remote sensing\",\n",
      "   12. \"survey papers remote sensing image segmentation\"\n",
      "   13. ]\n",
      "   14. ```\n",
      "----------------------------------------\n",
      "\n",
      "2. Complex User Input:\n",
      "   'Please explain the mathematical foundations of manifold learning and how it applies to change point detection. I'm particularly interested in robust estimation methods.'\n",
      "\n",
      "   Optimal Search Queries:\n",
      "   1. ```python\n",
      "   2. [\n",
      "   3. \"manifold learning mathematical foundations\",\n",
      "   4. \"manifold learning applications change point detection\",\n",
      "   5. \"robust manifold learning algorithms\",\n",
      "   6. \"robust estimation manifold learning\",\n",
      "   7. \"change point detection manifold learning robust methods\",\n",
      "   8. \"robust statistics manifold learning change point detection\",\n",
      "   9. \"manifold learning dimensionality reduction change point detection\",\n",
      "   10. \"robust change point detection techniques manifold data\"\n",
      "   11. ]\n",
      "   12. ```\n",
      "----------------------------------------\n",
      "\n",
      "3. Complex User Input:\n",
      "   'Help me understand generative AI models, their computational complexity, and the satisfiability problems in state space models. Focus on recent advances.'\n",
      "\n",
      "   Optimal Search Queries:\n",
      "   1. ```python\n",
      "   2. ['generative AI models recent advances',\n",
      "   3. 'computational complexity generative AI',\n",
      "   4. 'satisfiability problems state space models',\n",
      "   5. 'recent advances state space model satisfiability',\n",
      "   6. 'computational complexity state space models AI',\n",
      "   7. 'generative AI models computational limitations',\n",
      "   8. 'state space model complexity recent research']\n",
      "   9. ```\n",
      "----------------------------------------\n",
      "\n",
      "4. Complex User Input:\n",
      "   'I want to learn about publication bias in statistical research. Explain the Copas-Jackson bounds and similar methods for addressing selection bias in meta-analysis.'\n",
      "\n",
      "   Optimal Search Queries:\n",
      "   1. ```python\n",
      "   2. ['publication bias in statistical research',\n",
      "   3. 'Copas-Jackson bounds meta-analysis',\n",
      "   4. 'methods for addressing selection bias in meta-analysis',\n",
      "   5. 'Copas-Jackson bounds explanation',\n",
      "   6. 'selection bias in meta-analysis solutions',\n",
      "   7. 'statistical methods for publication bias',\n",
      "   8. 'publication bias correction meta-analysis',\n",
      "   9. 'handling selection bias meta-analysis',\n",
      "   10. 'alternatives to Copas-Jackson bounds']\n",
      "   11. ```\n",
      "----------------------------------------\n",
      "\n",
      "5. Complex User Input:\n",
      "   'Provide an overview of counterfactual generation methods in machine learning, emphasizing model-agnostic approaches and causal constraints.'\n",
      "\n",
      "   Optimal Search Queries:\n",
      "   1. ```python\n",
      "   2. [\n",
      "   3. \"model-agnostic counterfactual generation methods\",\n",
      "   4. \"counterfactual explanation techniques in machine learning\",\n",
      "   5. \"causal inference for counterfactual generation\",\n",
      "   6. \"model-agnostic counterfactual explanation with causal constraints\",\n",
      "   7. \"generating counterfactuals without model access\",\n",
      "   8. \"counterfactual analysis using causal diagrams\",\n",
      "   9. \"constraints in counterfactual generation\",\n",
      "   10. \"interpretable counterfactual explanations\",\n",
      "   11. \"comparison of model-agnostic counterfactual methods\",\n",
      "   12. \"causal discovery for counterfactual generation\",\n",
      "   13. \"limitations of model-agnostic counterfactual generation\",\n",
      "   14. \"applications of model-agnostic counterfactual methods\"\n",
      "   15. ]\n",
      "   16. ```\n",
      "----------------------------------------\n"
     ]
    }
   ],
   "source": [
    "print(\"=\" * 60)\n",
    "print(\"SELF-QUERYING EXAMPLES\")\n",
    "print(\"=\" * 60)\n",
    "\n",
    "self_querying_examples = QUERY_EXAMPLES[\"self_querying\"]\n",
    "\n",
    "for i, example in enumerate(self_querying_examples, 1):\n",
    "    query = example[\"query\"]\n",
    "    print(f\"\\n{i}. Complex User Input:\")\n",
    "    print(f\"   '{query}'\")\n",
    "    \n",
    "    try:\n",
    "        search_queries = self_query(query)\n",
    "        print(f\"\\n   Optimal Search Queries:\")\n",
    "        for j, search_query in enumerate(search_queries, 1):\n",
    "            print(f\"   {j}. {search_query}\")\n",
    "    except Exception as e:\n",
    "        print(f\"   Error: {e}\")\n",
    "    \n",
    "    print(\"-\" * 40)\n"
   ]
  },
  {
   "cell_type": "markdown",
   "metadata": {},
   "source": [
    "## Testing Section\n",
    "\n",
    "Try your own queries with different rephrasing techniques:\n"
   ]
  },
  {
   "cell_type": "code",
   "execution_count": 17,
   "metadata": {},
   "outputs": [
    {
     "name": "stdout",
     "output_type": "stream",
     "text": [
      "Original: AI models\n",
      "Expanded: What are the different types of AI models and their applications?\n"
     ]
    }
   ],
   "source": [
    "# Test your own query expansion\n",
    "test_query = \"AI models\"  \n",
    "\n",
    "print(f\"Original: {test_query}\")\n",
    "print(f\"Expanded: {expand_query(test_query)}\")\n"
   ]
  },
  {
   "cell_type": "code",
   "execution_count": 18,
   "metadata": {},
   "outputs": [
    {
     "name": "stdout",
     "output_type": "stream",
     "text": [
      "Original: What are neural networks and how do they work?\n",
      "Sub-queries:\n",
      "1. ```python\n",
      "2. ['What are neural networks?', 'How do neural networks work?']\n",
      "3. ```\n"
     ]
    }
   ],
   "source": [
    "# Test your own query decomposition\n",
    "test_query = \"What are neural networks and how do they work?\"  \n",
    "\n",
    "print(f\"Original: {test_query}\")\n",
    "sub_queries = decompose_query(test_query)\n",
    "print(\"Sub-queries:\")\n",
    "for i, sq in enumerate(sub_queries, 1):\n",
    "    print(f\"{i}. {sq}\")\n"
   ]
  },
  {
   "cell_type": "code",
   "execution_count": 19,
   "metadata": {},
   "outputs": [
    {
     "name": "stdout",
     "output_type": "stream",
     "text": [
      "Context-dependent: How does it work?\n",
      "Context: User asked about neural networks\n",
      "Standalone: How do neural networks work?\n"
     ]
    }
   ],
   "source": [
    "# Test your own query rewriting\n",
    "test_query = \"How does it work?\"  \n",
    "test_context = \"User asked about neural networks\"  \n",
    "\n",
    "print(f\"Context-dependent: {test_query}\")\n",
    "print(f\"Context: {test_context}\")\n",
    "print(f\"Standalone: {rewrite_query(test_query, test_context)}\")\n"
   ]
  },
  {
   "cell_type": "code",
   "execution_count": 20,
   "metadata": {},
   "outputs": [
    {
     "name": "stdout",
     "output_type": "stream",
     "text": [
      "Complex input: I want to learn about machine learning\n",
      "Optimal search queries:\n",
      "1. ```python\n",
      "2. ['machine learning tutorial', 'machine learning for beginners', 'introduction to machine learning', 'machine learning concepts', 'machine learning algorithms']\n",
      "3. ```\n"
     ]
    }
   ],
   "source": [
    "# Test your own self-querying\n",
    "test_query = \"I want to learn about machine learning\"  \n",
    "\n",
    "print(f\"Complex input: {test_query}\")\n",
    "search_queries = self_query(test_query)\n",
    "print(\"Optimal search queries:\")\n",
    "for i, sq in enumerate(search_queries, 1):\n",
    "    print(f\"{i}. {sq}\")\n"
   ]
  },
  {
   "cell_type": "markdown",
   "metadata": {
    "jp-MarkdownHeadingCollapsed": true
   },
   "source": [
    "## 🏁 Summary\n",
    "\n",
    "This notebook demonstrated four key query rephrasing techniques:  \n",
    "\n",
    "**🔍 Query Expansion**: Enriches queries with additional context and domain-specific terms  \n",
    "**🪓 Query Decomposition**: Breaks complex multi-intent queries into focused sub-queries  \n",
    "**✏️ Query Rewriting**: Makes context-dependent queries standalone for better retrieval  \n",
    "**🤖 Self-Querying**: Transforms complex user inputs into optimized search queries  \n",
    "\n",
    "✨ These techniques help improve retrieval quality by ensuring queries are:  \n",
    "- Clear and specific  \n",
    "- Context-independent  \n",
    "- Properly scoped  \n",
    "- Optimized for search  \n",
    "\n"
   ]
  },
  {
   "cell_type": "markdown",
   "metadata": {},
   "source": [
    "# 🚀 Semantic Routing Demonstration\n",
    "\n",
    "Demonstration of the semantic routing system with different example queries:"
   ]
  },
  {
   "cell_type": "code",
   "execution_count": 21,
   "metadata": {},
   "outputs": [],
   "source": [
    "# Import required modules\n",
    "import sys\n",
    "import os\n",
    "sys.path.append(os.getcwd())\n",
    "\n",
    "from retrieval_playground.src.pre_retrieval.routing import (\n",
    "    semantic_layer, \n",
    "    run_routing_examples,\n",
    "    get_route_info\n",
    ")"
   ]
  },
  {
   "cell_type": "markdown",
   "metadata": {},
   "source": [
    "## 📍 Route"
   ]
  },
  {
   "cell_type": "code",
   "execution_count": 22,
   "metadata": {},
   "outputs": [
    {
     "data": {
      "text/plain": [
       "{'total_routes': 2,\n",
       " 'routes': {'greetings': {'name': 'greetings',\n",
       "   'utterances_count': 29,\n",
       "   'description': 'Handles casual conversation and greetings'},\n",
       "  'research_papers': {'name': 'research_papers',\n",
       "   'utterances_count': 68,\n",
       "   'description': 'Routes academic and research-related queries'}},\n",
       " 'embedding_model': 'Qwen/Qwen3-Embedding-0.6B',\n",
       " 'default_threshold': 0.7}"
      ]
     },
     "execution_count": 22,
     "metadata": {},
     "output_type": "execute_result"
    }
   ],
   "source": [
    "get_route_info()"
   ]
  },
  {
   "cell_type": "code",
   "execution_count": 23,
   "metadata": {},
   "outputs": [
    {
     "data": {
      "image/svg+xml": [
       "<svg xmlns=\"http://www.w3.org/2000/svg\" width=\"800\" height=\"600\">\n",
       "  <defs>\n",
       "    <style>\n",
       "      .title { font: bold 18px Arial; text-anchor: middle; }\n",
       "      .node-text { font: 12px Arial; text-anchor: middle; }\n",
       "      .edge-text { font: 10px Arial; text-anchor: middle; }\n",
       "      .input { fill: #e1f5fe; stroke: #01579b; stroke-width: 2; }\n",
       "      .router { fill: #fff3e0; stroke: #e65100; stroke-width: 2; }\n",
       "      .classification { fill: #f3e5f5; stroke: #4a148c; stroke-width: 2; }\n",
       "      .fallback { fill: #ffebee; stroke: #b71c1c; stroke-width: 2; }\n",
       "      .greetings { fill: #e8f5e8; stroke: #1b5e20; stroke-width: 2; }\n",
       "      .research { fill: #e3f2fd; stroke: #0d47a1; stroke-width: 2; }\n",
       "      .unknown { fill: #fce4ec; stroke: #880e4f; stroke-width: 2; }\n",
       "      .response { fill: #f1f8e9; stroke: #33691e; stroke-width: 2; }\n",
       "      .vector-search { fill: #e8eaf6; stroke: #1a237e; stroke-width: 2; }\n",
       "      .default-response { fill: #fff8e1; stroke: #e65100; stroke-width: 2; }\n",
       "      .threshold { fill: #f9fbe7; stroke: #827717; stroke-width: 2; }\n",
       "    </style>\n",
       "  </defs>\n",
       "  \n",
       "  <!-- Title -->\n",
       "  <text x=\"400\" y=\"25\" class=\"title\">🚀 Semantic Routing System Flow</text>\n",
       "  \n",
       "  <!-- Input Query -->\n",
       "  <rect x=\"320\" y=\"50\" width=\"160\" height=\"40\" rx=\"5\" class=\"input\"/>\n",
       "  <text x=\"400\" y=\"75\" class=\"node-text\">🔍 Input Query</text>\n",
       "  \n",
       "  <!-- Semantic Router -->\n",
       "  <rect x=\"320\" y=\"120\" width=\"160\" height=\"40\" rx=\"5\" class=\"router\"/>\n",
       "  <text x=\"400\" y=\"145\" class=\"node-text\">🧠 Semantic Router</text>\n",
       "  \n",
       "  <!-- Threshold Check -->\n",
       "  <rect x=\"200\" y=\"190\" width=\"140\" height=\"50\" rx=\"5\" class=\"threshold\"/>\n",
       "  <text x=\"270\" y=\"210\" class=\"node-text\">📊 Threshold Check</text>\n",
       "  <text x=\"270\" y=\"225\" class=\"node-text\">Score ≥ 0.7</text>\n",
       "  \n",
       "  <!-- Default Fallback -->\n",
       "  <rect x=\"460\" y=\"190\" width=\"140\" height=\"50\" rx=\"5\" class=\"fallback\"/>\n",
       "  <text x=\"530\" y=\"210\" class=\"node-text\">⚠️ Default Fallback</text>\n",
       "  <text x=\"530\" y=\"225\" class=\"node-text\">No Route Found</text>\n",
       "  \n",
       "  <!-- Route Classification -->\n",
       "  <rect x=\"200\" y=\"280\" width=\"140\" height=\"40\" rx=\"5\" class=\"classification\"/>\n",
       "  <text x=\"270\" y=\"305\" class=\"node-text\">🎯 Route Classification</text>\n",
       "  \n",
       "  <!-- Greetings Route -->\n",
       "  <rect x=\"50\" y=\"360\" width=\"120\" height=\"50\" rx=\"5\" class=\"greetings\"/>\n",
       "  <text x=\"110\" y=\"380\" class=\"node-text\">👋 Greetings</text>\n",
       "  <text x=\"110\" y=\"395\" class=\"node-text\">No Retrieval</text>\n",
       "  \n",
       "  <!-- Research Papers Route -->\n",
       "  <rect x=\"200\" y=\"360\" width=\"120\" height=\"50\" rx=\"5\" class=\"research\"/>\n",
       "  <text x=\"260\" y=\"380\" class=\"node-text\">📚 Research Papers</text>\n",
       "  <text x=\"260\" y=\"395\" class=\"node-text\">Vector Retrieval</text>\n",
       "  \n",
       "  <!-- Unknown Route -->\n",
       "  <rect x=\"350\" y=\"360\" width=\"120\" height=\"50\" rx=\"5\" class=\"unknown\"/>\n",
       "  <text x=\"410\" y=\"380\" class=\"node-text\">❓ Unknown Route</text>\n",
       "  <text x=\"410\" y=\"395\" class=\"node-text\">Unrecognized</text>\n",
       "  \n",
       "  <!-- Direct LLM Response -->\n",
       "  <rect x=\"50\" y=\"460\" width=\"120\" height=\"40\" rx=\"5\" class=\"response\"/>\n",
       "  <text x=\"110\" y=\"485\" class=\"node-text\">💬 Direct LLM</text>\n",
       "  \n",
       "  <!-- Vector Search + LLM -->\n",
       "  <rect x=\"200\" y=\"460\" width=\"120\" height=\"40\" rx=\"5\" class=\"vector-search\"/>\n",
       "  <text x=\"260\" y=\"485\" class=\"node-text\">🔍 Vector + LLM</text>\n",
       "  \n",
       "  <!-- Default Response -->\n",
       "  <rect x=\"460\" y=\"460\" width=\"140\" height=\"40\" rx=\"5\" class=\"default-response\"/>\n",
       "  <text x=\"530\" y=\"485\" class=\"node-text\">🤖 Default Response</text>\n",
       "  \n",
       "  <!-- Arrows -->\n",
       "  <!-- Input to Router -->\n",
       "  <line x1=\"400\" y1=\"90\" x2=\"400\" y2=\"120\" stroke=\"#333\" stroke-width=\"2\" marker-end=\"url(#arrowhead)\"/>\n",
       "  \n",
       "  <!-- Router to Threshold -->\n",
       "  <line x1=\"360\" y1=\"160\" x2=\"300\" y2=\"190\" stroke=\"#333\" stroke-width=\"2\" marker-end=\"url(#arrowhead)\"/>\n",
       "  \n",
       "  <!-- Router to Fallback -->\n",
       "  <line x1=\"440\" y1=\"160\" x2=\"500\" y2=\"190\" stroke=\"#333\" stroke-width=\"2\" marker-end=\"url(#arrowhead)\"/>\n",
       "  \n",
       "  <!-- Threshold to Classification -->\n",
       "  <line x1=\"270\" y1=\"240\" x2=\"270\" y2=\"280\" stroke=\"#333\" stroke-width=\"2\" marker-end=\"url(#arrowhead)\"/>\n",
       "  \n",
       "\n",
       "  \n",
       "  <!-- Classification to routes -->\n",
       "  <line x1=\"230\" y1=\"320\" x2=\"130\" y2=\"360\" stroke=\"#333\" stroke-width=\"2\" marker-end=\"url(#arrowhead)\"/>\n",
       "  <line x1=\"270\" y1=\"320\" x2=\"260\" y2=\"360\" stroke=\"#333\" stroke-width=\"2\" marker-end=\"url(#arrowhead)\"/>\n",
       "  <line x1=\"310\" y1=\"320\" x2=\"390\" y2=\"360\" stroke=\"#333\" stroke-width=\"2\" marker-end=\"url(#arrowhead)\"/>\n",
       "  \n",
       "  <!-- Routes to responses -->\n",
       "  <line x1=\"110\" y1=\"410\" x2=\"110\" y2=\"460\" stroke=\"#333\" stroke-width=\"2\" marker-end=\"url(#arrowhead)\"/>\n",
       "  <line x1=\"260\" y1=\"410\" x2=\"260\" y2=\"460\" stroke=\"#333\" stroke-width=\"2\" marker-end=\"url(#arrowhead)\"/>\n",
       "  <line x1=\"410\" y1=\"410\" x2=\"500\" y2=\"460\" stroke=\"#333\" stroke-width=\"2\" marker-end=\"url(#arrowhead)\"/>\n",
       "  <line x1=\"530\" y1=\"240\" x2=\"530\" y2=\"460\" stroke=\"#333\" stroke-width=\"2\" marker-end=\"url(#arrowhead)\"/>\n",
       "  \n",
       "\n",
       "  \n",
       "  <!-- Arrow marker definition -->\n",
       "  <defs>\n",
       "    <marker id=\"arrowhead\" markerWidth=\"10\" markerHeight=\"7\" refX=\"10\" refY=\"3.5\" orient=\"auto\">\n",
       "      <polygon points=\"0 0, 10 3.5, 0 7\" fill=\"#333\"/>\n",
       "    </marker>\n",
       "  </defs>\n",
       "  \n",
       "\n",
       "  \n",
       "  <!-- Configuration Info -->\n",
       "  <text x=\"400\" y=\"550\" class=\"edge-text\" style=\"font-weight: bold;\">Configuration: Threshold = 0.7 | Routes: Greetings, Research Papers</text>\n",
       "  <text x=\"400\" y=\"570\" class=\"edge-text\">Updated Fallback: Provides default response instead of routing to research papers</text>\n",
       "</svg>"
      ],
      "text/plain": [
       "<IPython.core.display.SVG object>"
      ]
     },
     "metadata": {},
     "output_type": "display_data"
    }
   ],
   "source": [
    "from IPython.display import SVG, display\n",
    "display(SVG(filename=\"../../utils/images/routing.svg\"))"
   ]
  },
  {
   "cell_type": "markdown",
   "metadata": {},
   "source": [
    "## 👋 Example: Greeting Queries "
   ]
  },
  {
   "cell_type": "code",
   "execution_count": 24,
   "metadata": {},
   "outputs": [
    {
     "name": "stdout",
     "output_type": "stream",
     "text": [
      "Query: \"Hi there! How are you doing today?\"\n",
      "Route for the query Hi there! How are you doing today?: name='greetings' function_call=None similarity_score=np.float64(0.7550670203546611)\n",
      "Result: Hi there! How are you doing today? [SYSTEM_NOTE: ROUTING: Query classified as greeting/casual conversation. No retrieval required - proceeding directly to LLM for response generation. [Confidence: 0.755]]\n",
      "\n",
      "============================================================\n",
      "\n",
      "Query: \"Thank you for your help with this research!\"\n",
      "Route for the query Thank you for your help with this research!: name='greetings' function_call=None similarity_score=np.float64(0.7793124134237769)\n",
      "Result: Thank you for your help with this research! [SYSTEM_NOTE: ROUTING: Query classified as greeting/casual conversation. No retrieval required - proceeding directly to LLM for response generation. [Confidence: 0.779]]\n"
     ]
    }
   ],
   "source": [
    "# Example 1: Casual greeting\n",
    "query1 = \"Hi there! How are you doing today?\"\n",
    "print(f\"Query: \\\"{query1}\\\"\")\n",
    "result1 = semantic_layer(query1)\n",
    "print(f\"Result: {result1}\")\n",
    "print(\"\\n\" + \"=\"*60 + \"\\n\")\n",
    "\n",
    "# Example 2: Gratitude expression  \n",
    "query2 = \"Thank you for your help with this research!\"\n",
    "print(f\"Query: \\\"{query2}\\\"\")\n",
    "result2 = semantic_layer(query2)\n",
    "print(f\"Result: {result2}\")\n"
   ]
  },
  {
   "cell_type": "markdown",
   "metadata": {},
   "source": [
    "## 📚 Example: Research Papers Queries"
   ]
  },
  {
   "cell_type": "code",
   "execution_count": 25,
   "metadata": {},
   "outputs": [
    {
     "name": "stdout",
     "output_type": "stream",
     "text": [
      "Query: \"What research papers discuss counterfactual generation and causal analysis methods?\"\n",
      "Route for the query What research papers discuss counterfactual generation and causal analysis methods?: name='research_papers' function_call=None similarity_score=np.float64(0.7684515359508179)\n",
      "Result: What research papers discuss counterfactual generation and causal analysis methods? [SYSTEM_NOTE: ROUTING: Query classified as research-related. Retrieval enabled - routing to Research Papers vector database for context extraction. [Confidence: 0.768]]\n",
      "\n",
      "============================================================\n",
      "\n",
      "Query: \"Can you explain annotation-free segmentation techniques for remote sensing images?\"\n",
      "Route for the query Can you explain annotation-free segmentation techniques for remote sensing images?: name='research_papers' function_call=None similarity_score=np.float64(0.7628852951012227)\n",
      "Result: Can you explain annotation-free segmentation techniques for remote sensing images? [SYSTEM_NOTE: ROUTING: Query classified as research-related. Retrieval enabled - routing to Research Papers vector database for context extraction. [Confidence: 0.763]]\n"
     ]
    }
   ],
   "source": [
    "# Example 3: Analytics/Causal Analysis query\n",
    "query3 = \"What research papers discuss counterfactual generation and causal analysis methods?\"\n",
    "print(f\"Query: \\\"{query3}\\\"\")\n",
    "result3 = semantic_layer(query3)\n",
    "print(f\"Result: {result3}\")\n",
    "print(\"\\n\" + \"=\"*60 + \"\\n\")\n",
    "\n",
    "# Example 4: Computer Vision/Remote Sensing query\n",
    "query4 = \"Can you explain annotation-free segmentation techniques for remote sensing images?\"\n",
    "print(f\"Query: \\\"{query4}\\\"\")\n",
    "result4 = semantic_layer(query4)\n",
    "print(f\"Result: {result4}\")\n"
   ]
  },
  {
   "cell_type": "markdown",
   "metadata": {},
   "source": [
    "## 🔄 Example: Default Fallback Query"
   ]
  },
  {
   "cell_type": "code",
   "execution_count": 26,
   "metadata": {},
   "outputs": [
    {
     "name": "stdout",
     "output_type": "stream",
     "text": [
      "Query: \"Give cheesecake recipe\"\n",
      "Route for the query Give cheesecake recipe: name=None function_call=None similarity_score=None\n",
      "Result: Give cheesecake recipe [SYSTEM_NOTE: ROUTING: Low confidence match. No route found for the query. Provide default response for the query.]\n"
     ]
    }
   ],
   "source": [
    "# Example 5: Unrelated query (should trigger default fallback)\n",
    "query5 = \"Give cheesecake recipe\"\n",
    "print(f\"Query: \\\"{query5}\\\"\")\n",
    "result5 = semantic_layer(query5)\n",
    "print(f\"Result: {result5}\")"
   ]
  },
  {
   "cell_type": "markdown",
   "metadata": {},
   "source": [
    "## 🎯 Complete Demonstration (All 5 Examples)"
   ]
  },
  {
   "cell_type": "code",
   "execution_count": 27,
   "metadata": {},
   "outputs": [
    {
     "name": "stdout",
     "output_type": "stream",
     "text": [
      "🧪 Testing Semantic Routing System...\n",
      "📋 Route Configuration: 2 routes available\n",
      "🎯 Similarity Threshold: 0.7\n",
      "🤖 Embedding Model: Qwen/Qwen3-Embedding-0.6B\n",
      "🚀 SEMANTIC ROUTING EXAMPLES DEMONSTRATION\n",
      "============================================================\n",
      "\n",
      "📝 EXAMPLE 1: GREETINGS\n",
      "Query: \"Hi there! How are you doing today?\"\n",
      "Expected: Casual greeting that should route to greetings handler\n",
      "Route for the query Hi there! How are you doing today?: name='greetings' function_call=None similarity_score=np.float64(0.7550670203546611)\n",
      "✅ Detected Route: greetings\n",
      "📊 Confidence Score: 0.755\n",
      "🔄 Query with Note: Hi there! How are you doing today? [SYSTEM_NOTE: ROUTING: Query classified as greeting/casual conversation. No retrieval required - proceeding directly to LLM for response generation. [Confidence: 0.755]]\n",
      "------------------------------------------------------------\n",
      "\n",
      "📝 EXAMPLE 2: GREETINGS\n",
      "Query: \"Thank you for your help with this research!\"\n",
      "Expected: Gratitude expression that should route to greetings handler\n",
      "Route for the query Thank you for your help with this research!: name='greetings' function_call=None similarity_score=np.float64(0.7793124134237769)\n",
      "✅ Detected Route: greetings\n",
      "📊 Confidence Score: 0.779\n",
      "🔄 Query with Note: Thank you for your help with this research! [SYSTEM_NOTE: ROUTING: Query classified as greeting/casual conversation. No retrieval required - proceeding directly to LLM for response generation. [Confidence: 0.779]]\n",
      "------------------------------------------------------------\n",
      "\n",
      "📝 EXAMPLE 3: RESEARCH_PAPERS\n",
      "Query: \"What research papers discuss counterfactual generation and causal analysis methods?\"\n",
      "Expected: Analytics research query aligned with Analytics_2025_MC3G paper\n",
      "Route for the query What research papers discuss counterfactual generation and causal analysis methods?: name='research_papers' function_call=None similarity_score=np.float64(0.7684515359508179)\n",
      "✅ Detected Route: research_papers\n",
      "📊 Confidence Score: 0.768\n",
      "🔄 Query with Note: What research papers discuss counterfactual generation and causal analysis methods? [SYSTEM_NOTE: ROUTING: Query classified as research-related. Retrieval enabled - routing to Research Papers vector database for context extraction. [Confidence: 0.768]]\n",
      "------------------------------------------------------------\n",
      "\n",
      "📝 EXAMPLE 4: RESEARCH_PAPERS\n",
      "Query: \"Can you explain annotation-free segmentation techniques for remote sensing images?\"\n",
      "Expected: Computer vision query aligned with Computer_Vision_2025 paper\n",
      "Route for the query Can you explain annotation-free segmentation techniques for remote sensing images?: name='research_papers' function_call=None similarity_score=np.float64(0.7628852951012227)\n",
      "✅ Detected Route: research_papers\n",
      "📊 Confidence Score: 0.763\n",
      "🔄 Query with Note: Can you explain annotation-free segmentation techniques for remote sensing images? [SYSTEM_NOTE: ROUTING: Query classified as research-related. Retrieval enabled - routing to Research Papers vector database for context extraction. [Confidence: 0.763]]\n",
      "------------------------------------------------------------\n",
      "\n",
      "📝 EXAMPLE 5: DEFAULT_FALLBACK\n",
      "Query: \"Give cheesecake recipe\"\n",
      "Expected: Unrelated query that should trigger default fallback routing\n",
      "Route for the query Give cheesecake recipe: name=None function_call=None similarity_score=None\n",
      "✅ Detected Route: None\n",
      "📊 Confidence Score: None\n",
      "🔄 Query with Note: Give cheesecake recipe [SYSTEM_NOTE: ROUTING: Low confidence match. No route found for the query. Provide default response for the query.]\n",
      "------------------------------------------------------------\n",
      "\n",
      "📈 ROUTING SUMMARY:\n",
      "Total Examples: 5\n",
      "Successful Routes: 5\n",
      "Success Rate: 100.0%\n"
     ]
    }
   ],
   "source": [
    "# Run the complete demonstration with all 5 examples\n",
    "results = run_routing_examples()"
   ]
  },
  {
   "cell_type": "code",
   "execution_count": null,
   "metadata": {},
   "outputs": [],
   "source": []
  },
  {
   "cell_type": "code",
   "execution_count": null,
   "metadata": {},
   "outputs": [],
   "source": []
  },
  {
   "cell_type": "code",
   "execution_count": null,
   "metadata": {},
   "outputs": [],
   "source": []
  }
 ],
 "metadata": {
  "kernelspec": {
   "display_name": "Python 3 (ipykernel)",
   "language": "python",
   "name": "python3"
  },
  "language_info": {
   "codemirror_mode": {
    "name": "ipython",
    "version": 3
   },
   "file_extension": ".py",
   "mimetype": "text/x-python",
   "name": "python",
   "nbconvert_exporter": "python",
   "pygments_lexer": "ipython3",
   "version": "3.12.7"
  }
 },
 "nbformat": 4,
 "nbformat_minor": 4
}
