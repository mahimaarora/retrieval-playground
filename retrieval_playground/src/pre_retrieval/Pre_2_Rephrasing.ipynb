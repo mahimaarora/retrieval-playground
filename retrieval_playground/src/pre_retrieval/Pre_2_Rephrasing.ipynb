{
 "cells": [
  {
   "cell_type": "markdown",
   "metadata": {},
   "source": [
    "# 🔄 Query Rephrasing Techniques Demo\n",
    "\n",
    "This notebook demonstrates different query rephrasing techniques used in retrieval systems to improve search quality and relevance.  \n",
    "\n",
    "## 📝 Overview\n",
    "\n",
    "We'll explore four main query processing techniques:\n",
    "\n",
    "**🔍 Query Expansion** – Add synonyms, related terms, or contextual entities  \n",
    "**🪓 Query Decomposition** – Break compound queries into atomic sub-queries  \n",
    "**✏️ Query Rewriting** – Make context-dependent queries standalone  \n",
    "**🤖 Self-Querying** – Transform complex input into optimal search queries  "
   ]
  },
  {
   "cell_type": "code",
   "execution_count": 5,
   "metadata": {},
   "outputs": [],
   "source": [
    "# # Import required modules\n",
    "from retrieval_playground.src.pre_retrieval.query_rephrasing import (\n",
    "    expand_query,\n",
    "    decompose_query,\n",
    "    rewrite_query,\n",
    "    self_query,\n",
    "    QUERY_EXAMPLES\n",
    ")"
   ]
  },
  {
   "cell_type": "markdown",
   "metadata": {},
   "source": [
    "## 1. Query Expansion 🔍\n",
    "\n",
    "🎯 **Purpose**: Expand queries by replacing abbreviations, adding context, or enriching with domain-specific terms.\n",
    "\n",
    "🗒️ **When to use**: \n",
    "- Queries contain abbreviations or acronyms\n",
    "- Queries are too broad or vague\n",
    "- Queries lack domain-specific terms\n",
    "- Queries are incomplete questions or direct phrases\n"
   ]
  },
  {
   "cell_type": "code",
   "execution_count": 6,
   "metadata": {},
   "outputs": [
    {
     "name": "stdout",
     "output_type": "stream",
     "text": [
      "============================================================\n",
      "QUERY EXPANSION EXAMPLES\n",
      "============================================================\n",
      "\n",
      "1. Original Query:\n",
      "   'Generative AI transformer evaluation benchmarks'\n",
      "\n",
      "   Expanded Query:\n",
      "   'Benchmarks for evaluating large language models and generative AI transformers'\n",
      "----------------------------------------\n",
      "\n",
      "2. Original Query:\n",
      "   'Retrieved capabilities of LLMs and FLOPs scaling'\n",
      "\n",
      "   Expanded Query:\n",
      "   'What are the retrieved capabilities of large language models (LLMs) and how does their performance scale with FLOPS?'\n",
      "----------------------------------------\n",
      "\n",
      "3. Original Query:\n",
      "   'AI models'\n",
      "\n",
      "   Expanded Query:\n",
      "   'What are the different types of AI models and their applications?'\n",
      "----------------------------------------\n",
      "\n",
      "4. Original Query:\n",
      "   'tell me about computer vision'\n",
      "\n",
      "   Expanded Query:\n",
      "   'What is computer vision and how does it work?'\n",
      "----------------------------------------\n",
      "\n",
      "5. Original Query:\n",
      "   'Physics-informed neural network for fatigue life prediction'\n",
      "\n",
      "   Expanded Query:\n",
      "   'Physics-informed neural networks for predicting fatigue life of materials'\n",
      "----------------------------------------\n"
     ]
    }
   ],
   "source": [
    "print(\"=\" * 60)\n",
    "print(\"QUERY EXPANSION EXAMPLES\")\n",
    "print(\"=\" * 60)\n",
    "\n",
    "expansion_examples = QUERY_EXAMPLES[\"expansion\"]\n",
    "\n",
    "for i, example in enumerate(expansion_examples, 1):\n",
    "    query = example[\"query\"]\n",
    "    print(f\"\\n{i}. Original Query:\")\n",
    "    print(f\"   '{query}'\")\n",
    "    \n",
    "    try:\n",
    "        expanded = expand_query(query)\n",
    "        print(f\"\\n   Expanded Query:\")\n",
    "        print(f\"   '{expanded}'\")\n",
    "    except Exception as e:\n",
    "        print(f\"   Error: {e}\")\n",
    "    \n",
    "    print(\"-\" * 40)\n"
   ]
  },
  {
   "cell_type": "markdown",
   "metadata": {},
   "source": [
    "## 2. Query Decomposition 🪓\n",
    "\n",
    "🎯 **Purpose**: Break down complex queries with multiple intents into smaller, atomic sub-queries.\n",
    "\n",
    "🗒️ **When to use**:\n",
    "- Queries contain multiple questions or intents\n",
    "- Compound queries that can be better answered separately\n",
    "- Complex queries that need to be processed independently\n"
   ]
  },
  {
   "cell_type": "code",
   "execution_count": 7,
   "metadata": {},
   "outputs": [
    {
     "name": "stdout",
     "output_type": "stream",
     "text": [
      "============================================================\n",
      "QUERY DECOMPOSITION EXAMPLES\n",
      "============================================================\n",
      "\n",
      "1. Original Complex Query:\n",
      "   'What are neural networks and how do they work in computer vision applications?'\n",
      "\n",
      "   Decomposed Sub-queries:\n",
      "   1. ```python\n",
      "   2. ['What are neural networks?', 'How do neural networks work in computer vision applications?']\n",
      "   3. ```\n",
      "----------------------------------------\n",
      "\n",
      "2. Original Complex Query:\n",
      "   'Explain machine learning algorithms, their types, and performance evaluation metrics'\n",
      "\n",
      "   Decomposed Sub-queries:\n",
      "   1. ```python\n",
      "   2. ['Explain machine learning algorithms', 'What are the types of machine learning algorithms?', 'What are the performance evaluation metrics for machine learning algorithms?']\n",
      "   3. ```\n",
      "----------------------------------------\n",
      "\n",
      "3. Original Complex Query:\n",
      "   'What is generative AI, what are its applications, and what are the ethical considerations?'\n",
      "\n",
      "   Decomposed Sub-queries:\n",
      "   1. ```python\n",
      "   2. ['What is generative AI?', 'What are the applications of generative AI?', 'What are the ethical considerations of generative AI?']\n",
      "   3. ```\n",
      "----------------------------------------\n",
      "\n",
      "4. Original Complex Query:\n",
      "   'How do statistical models work and what are their advantages over machine learning approaches?'\n",
      "\n",
      "   Decomposed Sub-queries:\n",
      "   1. ```python\n",
      "   2. ['How do statistical models work?', 'What are the advantages of statistical models over machine learning approaches?']\n",
      "   3. ```\n",
      "----------------------------------------\n",
      "\n",
      "5. Original Complex Query:\n",
      "   'What are the latest advances in computer vision and how do they apply to remote sensing?'\n",
      "\n",
      "   Decomposed Sub-queries:\n",
      "   1. ```python\n",
      "   2. ['What are the latest advances in computer vision?', 'How do the latest advances in computer vision apply to remote sensing?']\n",
      "   3. ```\n",
      "----------------------------------------\n"
     ]
    }
   ],
   "source": [
    "print(\"=\" * 60)\n",
    "print(\"QUERY DECOMPOSITION EXAMPLES\")\n",
    "print(\"=\" * 60)\n",
    "\n",
    "decomposition_examples = QUERY_EXAMPLES[\"decomposition\"]\n",
    "\n",
    "for i, example in enumerate(decomposition_examples, 1):\n",
    "    query = example[\"query\"]\n",
    "    print(f\"\\n{i}. Original Complex Query:\")\n",
    "    print(f\"   '{query}'\")\n",
    "    \n",
    "    try:\n",
    "        sub_queries = decompose_query(query)\n",
    "        print(f\"\\n   Decomposed Sub-queries:\")\n",
    "        for j, sub_query in enumerate(sub_queries, 1):\n",
    "            print(f\"   {j}. {sub_query}\")\n",
    "    except Exception as e:\n",
    "        print(f\"   Error: {e}\")\n",
    "    \n",
    "    print(\"-\" * 40)\n"
   ]
  },
  {
   "cell_type": "markdown",
   "metadata": {},
   "source": [
    "## 3. Query Rewriting ✏️\n",
    "\n",
    "🎯 **Purpose**: Transform context-dependent queries into standalone queries suitable for retrieval.\n",
    "\n",
    "🗒️ **When to use**:\n",
    "- Queries contain pronouns or references to previous context\n",
    "- Follow-up questions in conversations\n",
    "- Incomplete queries that depend on prior information\n"
   ]
  },
  {
   "cell_type": "code",
   "execution_count": 8,
   "metadata": {},
   "outputs": [
    {
     "name": "stdout",
     "output_type": "stream",
     "text": [
      "============================================================\n",
      "QUERY REWRITING EXAMPLES\n",
      "============================================================\n",
      "\n",
      "1. Context-Dependent Query:\n",
      "   'How does it work?'\n",
      "\n",
      "   Previous Context:\n",
      "   User asked about counterfactual generation in machine learning. Assistant explained that it's a method for creating hypothetical scenarios to understand causal relationships in data.\n",
      "\n",
      "   Standalone Query:\n",
      "   'How does counterfactual generation in machine learning work?'\n",
      "----------------------------------------\n",
      "\n",
      "2. Context-Dependent Query:\n",
      "   'What are the main advantages?'\n",
      "\n",
      "   Previous Context:\n",
      "   User inquired about Riemannian manifolds for change point detection. Assistant described how these mathematical structures can capture complex data geometries for robust statistical analysis.\n",
      "\n",
      "   Standalone Query:\n",
      "   'What are the main advantages of using Riemannian manifolds for change point detection?'\n",
      "----------------------------------------\n",
      "\n",
      "3. Context-Dependent Query:\n",
      "   'Can you explain the methodology?'\n",
      "\n",
      "   Previous Context:\n",
      "   User asked about publication bias in meta-analysis research. Assistant mentioned that Copas-Jackson bounds are statistical techniques used to assess and correct for selective reporting in academic studies.\n",
      "\n",
      "   Standalone Query:\n",
      "   'Explain the Copas-Jackson bounds methodology.'\n",
      "----------------------------------------\n",
      "\n",
      "4. Context-Dependent Query:\n",
      "   'What about the computational complexity?'\n",
      "\n",
      "   Previous Context:\n",
      "   User was learning about state space models in generative AI. Assistant explained that these models represent sequential data through hidden states and observable outputs.\n",
      "\n",
      "   Standalone Query:\n",
      "   'What is the computational complexity of state space models in generative AI?'\n",
      "----------------------------------------\n",
      "\n",
      "5. Context-Dependent Query:\n",
      "   'How does this compare to traditional approaches?'\n",
      "\n",
      "   Previous Context:\n",
      "   User asked about annotation-free segmentation methods for remote sensing. Assistant described how these computer vision techniques can identify objects without requiring manually labeled training data.\n",
      "\n",
      "   Standalone Query:\n",
      "   'How do annotation-free segmentation methods for remote sensing compare to traditional remote sensing segmentation approaches?'\n",
      "----------------------------------------\n"
     ]
    }
   ],
   "source": [
    "print(\"=\" * 60)\n",
    "print(\"QUERY REWRITING EXAMPLES\")\n",
    "print(\"=\" * 60)\n",
    "\n",
    "rewriting_examples = QUERY_EXAMPLES[\"rewriting\"]\n",
    "\n",
    "for i, example in enumerate(rewriting_examples, 1):\n",
    "    query = example[\"query\"]\n",
    "    context = example[\"previous_conversation_history\"]\n",
    "    \n",
    "    print(f\"\\n{i}. Context-Dependent Query:\")\n",
    "    print(f\"   '{query}'\")\n",
    "    \n",
    "    print(f\"\\n   Previous Context:\")\n",
    "    print(f\"   {context}\")\n",
    "    \n",
    "    try:\n",
    "        rewritten = rewrite_query(query, context)\n",
    "        print(f\"\\n   Standalone Query:\")\n",
    "        print(f\"   '{rewritten}'\")\n",
    "    except Exception as e:\n",
    "        print(f\"   Error: {e}\")\n",
    "    \n",
    "    print(\"-\" * 40)\n"
   ]
  },
  {
   "cell_type": "markdown",
   "metadata": {},
   "source": [
    "## 4. Self-Querying 🤖\n",
    "\n",
    "🎯 **Purpose**: Transform complex user input into optimal search queries for retrieval.\n",
    "\n",
    "🗒️ **When to use**:\n",
    "- Complex, multi-faceted user requests\n",
    "- When you need to generate multiple focused search queries\n",
    "- To optimize retrieval by creating targeted queries\n"
   ]
  },
  {
   "cell_type": "code",
   "execution_count": 9,
   "metadata": {},
   "outputs": [
    {
     "name": "stdout",
     "output_type": "stream",
     "text": [
      "============================================================\n",
      "SELF-QUERYING EXAMPLES\n",
      "============================================================\n",
      "\n",
      "1. Complex User Input:\n",
      "   'I need to understand the current state of research in computer vision, particularly focusing on segmentation techniques for remote sensing applications. What are the key papers and methodologies?'\n",
      "\n",
      "   Optimal Search Queries:\n",
      "   1. ```python\n",
      "   2. [\n",
      "   3. \"computer vision remote sensing image segmentation\",\n",
      "   4. \"deep learning segmentation remote sensing\",\n",
      "   5. \"remote sensing image segmentation review\",\n",
      "   6. \"semantic segmentation remote sensing applications\",\n",
      "   7. \"instance segmentation remote sensing datasets\",\n",
      "   8. \"key papers remote sensing image segmentation\",\n",
      "   9. \"methodologies remote sensing image segmentation\",\n",
      "   10. \"comparison of segmentation algorithms remote sensing\",\n",
      "   11. \"recent advances remote sensing image segmentation\",\n",
      "   12. \"computer vision segmentation techniques remote sensing overview\"\n",
      "   13. ]\n",
      "   14. ```\n",
      "----------------------------------------\n",
      "\n",
      "2. Complex User Input:\n",
      "   'Please explain the mathematical foundations of manifold learning and how it applies to change point detection. I'm particularly interested in robust estimation methods.'\n",
      "\n",
      "   Optimal Search Queries:\n",
      "   1. ```python\n",
      "   2. [\n",
      "   3. \"manifold learning mathematical foundations\",\n",
      "   4. \"manifold learning applications change point detection\",\n",
      "   5. \"robust manifold learning algorithms\",\n",
      "   6. \"robust estimation manifold learning\",\n",
      "   7. \"change point detection manifold learning robust methods\",\n",
      "   8. \"robust statistics manifold learning\",\n",
      "   9. \"manifold learning dimensionality reduction change point detection\",\n",
      "   10. \"robust change point detection techniques manifold learning\"\n",
      "   11. ]\n",
      "   12. ```\n",
      "----------------------------------------\n",
      "\n",
      "3. Complex User Input:\n",
      "   'Help me understand generative AI models, their computational complexity, and the satisfiability problems in state space models. Focus on recent advances.'\n",
      "\n",
      "   Optimal Search Queries:\n",
      "   1. ```python\n",
      "   2. ['generative AI models recent advances',\n",
      "   3. 'computational complexity generative AI',\n",
      "   4. 'satisfiability problems state space models',\n",
      "   5. 'recent advances state space model satisfiability',\n",
      "   6. 'computational complexity state space models AI',\n",
      "   7. 'generative AI models computational limitations',\n",
      "   8. 'state space model complexity recent research']\n",
      "   9. ```\n",
      "----------------------------------------\n",
      "\n",
      "4. Complex User Input:\n",
      "   'I want to learn about publication bias in statistical research. Explain the Copas-Jackson bounds and similar methods for addressing selection bias in meta-analysis.'\n",
      "\n",
      "   Optimal Search Queries:\n",
      "   1. ```python\n",
      "   2. ['publication bias in statistical research',\n",
      "   3. 'Copas-Jackson bounds publication bias',\n",
      "   4. 'Copas-Jackson bounds meta-analysis',\n",
      "   5. 'methods for addressing selection bias in meta-analysis',\n",
      "   6. 'selection bias meta-analysis techniques',\n",
      "   7. 'statistical methods for publication bias',\n",
      "   8. 'publication bias correction meta-analysis',\n",
      "   9. 'Copas-Jackson bounds explanation',\n",
      "   10. 'alternatives to Copas-Jackson bounds publication bias']\n",
      "   11. ```\n",
      "----------------------------------------\n",
      "\n",
      "5. Complex User Input:\n",
      "   'Provide an overview of counterfactual generation methods in machine learning, emphasizing model-agnostic approaches and causal constraints.'\n",
      "\n",
      "   Optimal Search Queries:\n",
      "   1. ```python\n",
      "   2. [\n",
      "   3. \"model-agnostic counterfactual generation methods\",\n",
      "   4. \"counterfactual explanation techniques in machine learning\",\n",
      "   5. \"causal inference and counterfactual generation\",\n",
      "   6. \"model-agnostic counterfactual analysis\",\n",
      "   7. \"constraints for counterfactual generation\",\n",
      "   8. \"generating counterfactuals with causal constraints\",\n",
      "   9. \"interpretable counterfactual explanations\",\n",
      "   10. \"comparison of model-agnostic counterfactual methods\",\n",
      "   11. \"limitations of model-agnostic counterfactual generation\",\n",
      "   12. \"applications of model-agnostic counterfactual generation\",\n",
      "   13. \"causal discovery and counterfactual generation\",\n",
      "   14. \"counterfactual fairness in machine learning\",\n",
      "   15. \"algorithmic fairness and counterfactual explanations\",\n",
      "   16. \"robust counterfactual generation methods\",\n",
      "   17. \"evaluation metrics for counterfactual generation\"\n",
      "   18. ]\n",
      "   19. ```\n",
      "----------------------------------------\n"
     ]
    }
   ],
   "source": [
    "print(\"=\" * 60)\n",
    "print(\"SELF-QUERYING EXAMPLES\")\n",
    "print(\"=\" * 60)\n",
    "\n",
    "self_querying_examples = QUERY_EXAMPLES[\"self_querying\"]\n",
    "\n",
    "for i, example in enumerate(self_querying_examples, 1):\n",
    "    query = example[\"query\"]\n",
    "    print(f\"\\n{i}. Complex User Input:\")\n",
    "    print(f\"   '{query}'\")\n",
    "    \n",
    "    try:\n",
    "        search_queries = self_query(query)\n",
    "        print(f\"\\n   Optimal Search Queries:\")\n",
    "        for j, search_query in enumerate(search_queries, 1):\n",
    "            print(f\"   {j}. {search_query}\")\n",
    "    except Exception as e:\n",
    "        print(f\"   Error: {e}\")\n",
    "    \n",
    "    print(\"-\" * 40)\n"
   ]
  },
  {
   "cell_type": "markdown",
   "metadata": {},
   "source": [
    "## Testing Section\n",
    "\n",
    "Try your own queries with different rephrasing techniques:\n"
   ]
  },
  {
   "cell_type": "code",
   "execution_count": 10,
   "metadata": {},
   "outputs": [
    {
     "name": "stdout",
     "output_type": "stream",
     "text": [
      "Original: AI models\n",
      "Expanded: What are the different types of AI models and their applications?\n"
     ]
    }
   ],
   "source": [
    "# Test your own query expansion\n",
    "test_query = \"AI models\"  \n",
    "\n",
    "print(f\"Original: {test_query}\")\n",
    "print(f\"Expanded: {expand_query(test_query)}\")\n"
   ]
  },
  {
   "cell_type": "code",
   "execution_count": 11,
   "metadata": {},
   "outputs": [
    {
     "name": "stdout",
     "output_type": "stream",
     "text": [
      "Original: What are neural networks and how do they work?\n",
      "Sub-queries:\n",
      "1. ```python\n",
      "2. ['What are neural networks?', 'How do neural networks work?']\n",
      "3. ```\n"
     ]
    }
   ],
   "source": [
    "# Test your own query decomposition\n",
    "test_query = \"What are neural networks and how do they work?\"  \n",
    "\n",
    "print(f\"Original: {test_query}\")\n",
    "sub_queries = decompose_query(test_query)\n",
    "print(\"Sub-queries:\")\n",
    "for i, sq in enumerate(sub_queries, 1):\n",
    "    print(f\"{i}. {sq}\")\n"
   ]
  },
  {
   "cell_type": "code",
   "execution_count": 12,
   "metadata": {},
   "outputs": [
    {
     "name": "stdout",
     "output_type": "stream",
     "text": [
      "Context-dependent: How does it work?\n",
      "Context: User asked about neural networks\n",
      "Standalone: How do neural networks work?\n"
     ]
    }
   ],
   "source": [
    "# Test your own query rewriting\n",
    "test_query = \"How does it work?\"  \n",
    "test_context = \"User asked about neural networks\"  \n",
    "\n",
    "print(f\"Context-dependent: {test_query}\")\n",
    "print(f\"Context: {test_context}\")\n",
    "print(f\"Standalone: {rewrite_query(test_query, test_context)}\")\n"
   ]
  },
  {
   "cell_type": "code",
   "execution_count": 13,
   "metadata": {},
   "outputs": [
    {
     "name": "stdout",
     "output_type": "stream",
     "text": [
      "Complex input: I want to learn about machine learning\n",
      "Optimal search queries:\n",
      "1. ```python\n",
      "2. ['machine learning tutorial', 'machine learning for beginners', 'introduction to machine learning', 'machine learning concepts', 'machine learning algorithms']\n",
      "3. ```\n"
     ]
    }
   ],
   "source": [
    "# Test your own self-querying\n",
    "test_query = \"I want to learn about machine learning\"  \n",
    "\n",
    "print(f\"Complex input: {test_query}\")\n",
    "search_queries = self_query(test_query)\n",
    "print(\"Optimal search queries:\")\n",
    "for i, sq in enumerate(search_queries, 1):\n",
    "    print(f\"{i}. {sq}\")\n"
   ]
  },
  {
   "cell_type": "markdown",
   "metadata": {},
   "source": [
    "## 🏁 Summary\n",
    "\n",
    "This notebook demonstrated four key query rephrasing techniques:  \n",
    "\n",
    "**🔍 Query Expansion**: Enriches queries with additional context and domain-specific terms  \n",
    "**🪓 Query Decomposition**: Breaks complex multi-intent queries into focused sub-queries  \n",
    "**✏️ Query Rewriting**: Makes context-dependent queries standalone for better retrieval  \n",
    "**🤖 Self-Querying**: Transforms complex user inputs into optimized search queries  \n",
    "\n",
    "✨ These techniques help improve retrieval quality by ensuring queries are:  \n",
    "- Clear and specific  \n",
    "- Context-independent  \n",
    "- Properly scoped  \n",
    "- Optimized for search  \n",
    "\n"
   ]
  },
  {
   "cell_type": "code",
   "execution_count": null,
   "metadata": {},
   "outputs": [],
   "source": []
  }
 ],
 "metadata": {
  "kernelspec": {
   "display_name": "Python 3 (ipykernel)",
   "language": "python",
   "name": "python3"
  },
  "language_info": {
   "codemirror_mode": {
    "name": "ipython",
    "version": 3
   },
   "file_extension": ".py",
   "mimetype": "text/x-python",
   "name": "python",
   "nbconvert_exporter": "python",
   "pygments_lexer": "ipython3",
   "version": "3.12.7"
  }
 },
 "nbformat": 4,
 "nbformat_minor": 4
}
