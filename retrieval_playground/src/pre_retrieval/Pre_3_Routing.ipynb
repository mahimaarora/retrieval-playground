{
 "cells": [
  {
   "cell_type": "markdown",
   "metadata": {},
   "source": [
    "# 🚀 Semantic Routing Demonstration\n",
    "\n",
    "Demonstration of the semantic routing system with different example queries:"
   ]
  },
  {
   "cell_type": "code",
   "execution_count": 1,
   "metadata": {},
   "outputs": [
    {
     "name": "stderr",
     "output_type": "stream",
     "text": [
      "\u001b[33m2025-09-04 00:50:00 WARNING semantic_router No index provided. Using default LocalIndex.\u001b[0m\n",
      "\u001b[33m2025-09-04 00:50:01 WARNING semantic_router No config is written for LocalIndex.\u001b[0m\n"
     ]
    }
   ],
   "source": [
    "# Import required modules\n",
    "import sys\n",
    "import os\n",
    "sys.path.append(os.getcwd())\n",
    "\n",
    "from retrieval_playground.src.pre_retrieval.routing import (\n",
    "    semantic_layer, \n",
    "    run_routing_examples,\n",
    "    get_route_info\n",
    ")\n"
   ]
  },
  {
   "cell_type": "markdown",
   "metadata": {},
   "source": [
    "## 📍 Route"
   ]
  },
  {
   "cell_type": "code",
   "execution_count": 2,
   "metadata": {},
   "outputs": [
    {
     "data": {
      "text/plain": [
       "{'total_routes': 2,\n",
       " 'routes': {'greetings': {'name': 'greetings',\n",
       "   'utterances_count': 29,\n",
       "   'description': 'Handles casual conversation and greetings'},\n",
       "  'research_papers': {'name': 'research_papers',\n",
       "   'utterances_count': 68,\n",
       "   'description': 'Routes academic and research-related queries'}},\n",
       " 'embedding_model': 'Qwen/Qwen3-Embedding-0.6B',\n",
       " 'default_threshold': 0.7}"
      ]
     },
     "execution_count": 2,
     "metadata": {},
     "output_type": "execute_result"
    }
   ],
   "source": [
    "get_route_info()"
   ]
  },
  {
   "cell_type": "code",
   "execution_count": 1,
   "metadata": {},
   "outputs": [
    {
     "data": {
      "image/svg+xml": [
       "<svg xmlns=\"http://www.w3.org/2000/svg\" width=\"800\" height=\"600\">\n",
       "  <defs>\n",
       "    <style>\n",
       "      .title { font: bold 18px Arial; text-anchor: middle; }\n",
       "      .node-text { font: 12px Arial; text-anchor: middle; }\n",
       "      .edge-text { font: 10px Arial; text-anchor: middle; }\n",
       "      .input { fill: #e1f5fe; stroke: #01579b; stroke-width: 2; }\n",
       "      .router { fill: #fff3e0; stroke: #e65100; stroke-width: 2; }\n",
       "      .classification { fill: #f3e5f5; stroke: #4a148c; stroke-width: 2; }\n",
       "      .fallback { fill: #ffebee; stroke: #b71c1c; stroke-width: 2; }\n",
       "      .greetings { fill: #e8f5e8; stroke: #1b5e20; stroke-width: 2; }\n",
       "      .research { fill: #e3f2fd; stroke: #0d47a1; stroke-width: 2; }\n",
       "      .unknown { fill: #fce4ec; stroke: #880e4f; stroke-width: 2; }\n",
       "      .response { fill: #f1f8e9; stroke: #33691e; stroke-width: 2; }\n",
       "      .vector-search { fill: #e8eaf6; stroke: #1a237e; stroke-width: 2; }\n",
       "      .default-response { fill: #fff8e1; stroke: #e65100; stroke-width: 2; }\n",
       "      .threshold { fill: #f9fbe7; stroke: #827717; stroke-width: 2; }\n",
       "    </style>\n",
       "  </defs>\n",
       "  \n",
       "  <!-- Title -->\n",
       "  <text x=\"400\" y=\"25\" class=\"title\">🚀 Semantic Routing System Flow</text>\n",
       "  \n",
       "  <!-- Input Query -->\n",
       "  <rect x=\"320\" y=\"50\" width=\"160\" height=\"40\" rx=\"5\" class=\"input\"/>\n",
       "  <text x=\"400\" y=\"75\" class=\"node-text\">🔍 Input Query</text>\n",
       "  \n",
       "  <!-- Semantic Router -->\n",
       "  <rect x=\"320\" y=\"120\" width=\"160\" height=\"40\" rx=\"5\" class=\"router\"/>\n",
       "  <text x=\"400\" y=\"145\" class=\"node-text\">🧠 Semantic Router</text>\n",
       "  \n",
       "  <!-- Threshold Check -->\n",
       "  <rect x=\"200\" y=\"190\" width=\"140\" height=\"50\" rx=\"5\" class=\"threshold\"/>\n",
       "  <text x=\"270\" y=\"210\" class=\"node-text\">📊 Threshold Check</text>\n",
       "  <text x=\"270\" y=\"225\" class=\"node-text\">Score ≥ 0.7</text>\n",
       "  \n",
       "  <!-- Default Fallback -->\n",
       "  <rect x=\"460\" y=\"190\" width=\"140\" height=\"50\" rx=\"5\" class=\"fallback\"/>\n",
       "  <text x=\"530\" y=\"210\" class=\"node-text\">⚠️ Default Fallback</text>\n",
       "  <text x=\"530\" y=\"225\" class=\"node-text\">No Route Found</text>\n",
       "  \n",
       "  <!-- Route Classification -->\n",
       "  <rect x=\"200\" y=\"280\" width=\"140\" height=\"40\" rx=\"5\" class=\"classification\"/>\n",
       "  <text x=\"270\" y=\"305\" class=\"node-text\">🎯 Route Classification</text>\n",
       "  \n",
       "  <!-- Greetings Route -->\n",
       "  <rect x=\"50\" y=\"360\" width=\"120\" height=\"50\" rx=\"5\" class=\"greetings\"/>\n",
       "  <text x=\"110\" y=\"380\" class=\"node-text\">👋 Greetings</text>\n",
       "  <text x=\"110\" y=\"395\" class=\"node-text\">No Retrieval</text>\n",
       "  \n",
       "  <!-- Research Papers Route -->\n",
       "  <rect x=\"200\" y=\"360\" width=\"120\" height=\"50\" rx=\"5\" class=\"research\"/>\n",
       "  <text x=\"260\" y=\"380\" class=\"node-text\">📚 Research Papers</text>\n",
       "  <text x=\"260\" y=\"395\" class=\"node-text\">Vector Retrieval</text>\n",
       "  \n",
       "  <!-- Unknown Route -->\n",
       "  <rect x=\"350\" y=\"360\" width=\"120\" height=\"50\" rx=\"5\" class=\"unknown\"/>\n",
       "  <text x=\"410\" y=\"380\" class=\"node-text\">❓ Unknown Route</text>\n",
       "  <text x=\"410\" y=\"395\" class=\"node-text\">Unrecognized</text>\n",
       "  \n",
       "  <!-- Direct LLM Response -->\n",
       "  <rect x=\"50\" y=\"460\" width=\"120\" height=\"40\" rx=\"5\" class=\"response\"/>\n",
       "  <text x=\"110\" y=\"485\" class=\"node-text\">💬 Direct LLM</text>\n",
       "  \n",
       "  <!-- Vector Search + LLM -->\n",
       "  <rect x=\"200\" y=\"460\" width=\"120\" height=\"40\" rx=\"5\" class=\"vector-search\"/>\n",
       "  <text x=\"260\" y=\"485\" class=\"node-text\">🔍 Vector + LLM</text>\n",
       "  \n",
       "  <!-- Default Response -->\n",
       "  <rect x=\"460\" y=\"460\" width=\"140\" height=\"40\" rx=\"5\" class=\"default-response\"/>\n",
       "  <text x=\"530\" y=\"485\" class=\"node-text\">🤖 Default Response</text>\n",
       "  \n",
       "  <!-- Arrows -->\n",
       "  <!-- Input to Router -->\n",
       "  <line x1=\"400\" y1=\"90\" x2=\"400\" y2=\"120\" stroke=\"#333\" stroke-width=\"2\" marker-end=\"url(#arrowhead)\"/>\n",
       "  \n",
       "  <!-- Router to Threshold -->\n",
       "  <line x1=\"360\" y1=\"160\" x2=\"300\" y2=\"190\" stroke=\"#333\" stroke-width=\"2\" marker-end=\"url(#arrowhead)\"/>\n",
       "  \n",
       "  <!-- Router to Fallback -->\n",
       "  <line x1=\"440\" y1=\"160\" x2=\"500\" y2=\"190\" stroke=\"#333\" stroke-width=\"2\" marker-end=\"url(#arrowhead)\"/>\n",
       "  \n",
       "  <!-- Threshold to Classification -->\n",
       "  <line x1=\"270\" y1=\"240\" x2=\"270\" y2=\"280\" stroke=\"#333\" stroke-width=\"2\" marker-end=\"url(#arrowhead)\"/>\n",
       "  \n",
       "\n",
       "  \n",
       "  <!-- Classification to routes -->\n",
       "  <line x1=\"230\" y1=\"320\" x2=\"130\" y2=\"360\" stroke=\"#333\" stroke-width=\"2\" marker-end=\"url(#arrowhead)\"/>\n",
       "  <line x1=\"270\" y1=\"320\" x2=\"260\" y2=\"360\" stroke=\"#333\" stroke-width=\"2\" marker-end=\"url(#arrowhead)\"/>\n",
       "  <line x1=\"310\" y1=\"320\" x2=\"390\" y2=\"360\" stroke=\"#333\" stroke-width=\"2\" marker-end=\"url(#arrowhead)\"/>\n",
       "  \n",
       "  <!-- Routes to responses -->\n",
       "  <line x1=\"110\" y1=\"410\" x2=\"110\" y2=\"460\" stroke=\"#333\" stroke-width=\"2\" marker-end=\"url(#arrowhead)\"/>\n",
       "  <line x1=\"260\" y1=\"410\" x2=\"260\" y2=\"460\" stroke=\"#333\" stroke-width=\"2\" marker-end=\"url(#arrowhead)\"/>\n",
       "  <line x1=\"410\" y1=\"410\" x2=\"500\" y2=\"460\" stroke=\"#333\" stroke-width=\"2\" marker-end=\"url(#arrowhead)\"/>\n",
       "  <line x1=\"530\" y1=\"240\" x2=\"530\" y2=\"460\" stroke=\"#333\" stroke-width=\"2\" marker-end=\"url(#arrowhead)\"/>\n",
       "  \n",
       "\n",
       "  \n",
       "  <!-- Arrow marker definition -->\n",
       "  <defs>\n",
       "    <marker id=\"arrowhead\" markerWidth=\"10\" markerHeight=\"7\" refX=\"10\" refY=\"3.5\" orient=\"auto\">\n",
       "      <polygon points=\"0 0, 10 3.5, 0 7\" fill=\"#333\"/>\n",
       "    </marker>\n",
       "  </defs>\n",
       "  \n",
       "\n",
       "  \n",
       "  <!-- Configuration Info -->\n",
       "  <text x=\"400\" y=\"550\" class=\"edge-text\" style=\"font-weight: bold;\">Configuration: Threshold = 0.7 | Routes: Greetings, Research Papers</text>\n",
       "  <text x=\"400\" y=\"570\" class=\"edge-text\">Updated Fallback: Provides default response instead of routing to research papers</text>\n",
       "</svg>"
      ],
      "text/plain": [
       "<IPython.core.display.SVG object>"
      ]
     },
     "metadata": {},
     "output_type": "display_data"
    }
   ],
   "source": [
    "from IPython.display import SVG, display\n",
    "display(SVG(filename=\"../../utils/images/routing.svg\"))"
   ]
  },
  {
   "cell_type": "markdown",
   "metadata": {},
   "source": [
    "## 👋 Example: Greeting Queries "
   ]
  },
  {
   "cell_type": "code",
   "execution_count": 3,
   "metadata": {},
   "outputs": [
    {
     "name": "stdout",
     "output_type": "stream",
     "text": [
      "Query: \"Hi there! How are you doing today?\"\n",
      "Route for the query Hi there! How are you doing today?: name='greetings' function_call=None similarity_score=np.float64(0.7550670203546611)\n",
      "Result: Hi there! How are you doing today? [SYSTEM_NOTE: ROUTING: Query classified as greeting/casual conversation. No retrieval required - proceeding directly to LLM for response generation. [Confidence: 0.755]]\n",
      "\n",
      "============================================================\n",
      "\n",
      "Query: \"Thank you for your help with this research!\"\n",
      "Route for the query Thank you for your help with this research!: name='greetings' function_call=None similarity_score=np.float64(0.7793124134237769)\n",
      "Result: Thank you for your help with this research! [SYSTEM_NOTE: ROUTING: Query classified as greeting/casual conversation. No retrieval required - proceeding directly to LLM for response generation. [Confidence: 0.779]]\n"
     ]
    }
   ],
   "source": [
    "# Example 1: Casual greeting\n",
    "query1 = \"Hi there! How are you doing today?\"\n",
    "print(f\"Query: \\\"{query1}\\\"\")\n",
    "result1 = semantic_layer(query1)\n",
    "print(f\"Result: {result1}\")\n",
    "print(\"\\n\" + \"=\"*60 + \"\\n\")\n",
    "\n",
    "# Example 2: Gratitude expression  \n",
    "query2 = \"Thank you for your help with this research!\"\n",
    "print(f\"Query: \\\"{query2}\\\"\")\n",
    "result2 = semantic_layer(query2)\n",
    "print(f\"Result: {result2}\")\n"
   ]
  },
  {
   "cell_type": "markdown",
   "metadata": {},
   "source": [
    "## 📚 Example: Research Papers Queries\n"
   ]
  },
  {
   "cell_type": "code",
   "execution_count": 4,
   "metadata": {},
   "outputs": [
    {
     "name": "stdout",
     "output_type": "stream",
     "text": [
      "Query: \"What research papers discuss counterfactual generation and causal analysis methods?\"\n",
      "Route for the query What research papers discuss counterfactual generation and causal analysis methods?: name='research_papers' function_call=None similarity_score=np.float64(0.7684515359508179)\n",
      "Result: What research papers discuss counterfactual generation and causal analysis methods? [SYSTEM_NOTE: ROUTING: Query classified as research-related. Retrieval enabled - routing to Research Papers vector database for context extraction. [Confidence: 0.768]]\n",
      "\n",
      "============================================================\n",
      "\n",
      "Query: \"Can you explain annotation-free segmentation techniques for remote sensing images?\"\n",
      "Route for the query Can you explain annotation-free segmentation techniques for remote sensing images?: name='research_papers' function_call=None similarity_score=np.float64(0.7628852951012227)\n",
      "Result: Can you explain annotation-free segmentation techniques for remote sensing images? [SYSTEM_NOTE: ROUTING: Query classified as research-related. Retrieval enabled - routing to Research Papers vector database for context extraction. [Confidence: 0.763]]\n"
     ]
    }
   ],
   "source": [
    "# Example 3: Analytics/Causal Analysis query\n",
    "query3 = \"What research papers discuss counterfactual generation and causal analysis methods?\"\n",
    "print(f\"Query: \\\"{query3}\\\"\")\n",
    "result3 = semantic_layer(query3)\n",
    "print(f\"Result: {result3}\")\n",
    "print(\"\\n\" + \"=\"*60 + \"\\n\")\n",
    "\n",
    "# Example 4: Computer Vision/Remote Sensing query\n",
    "query4 = \"Can you explain annotation-free segmentation techniques for remote sensing images?\"\n",
    "print(f\"Query: \\\"{query4}\\\"\")\n",
    "result4 = semantic_layer(query4)\n",
    "print(f\"Result: {result4}\")\n"
   ]
  },
  {
   "cell_type": "markdown",
   "metadata": {},
   "source": [
    "## 🔄 Example: Default Fallback Query\n"
   ]
  },
  {
   "cell_type": "code",
   "execution_count": 5,
   "metadata": {},
   "outputs": [
    {
     "name": "stdout",
     "output_type": "stream",
     "text": [
      "Query: \"Give cheesecake recipe\"\n",
      "Route for the query Give cheesecake recipe: name=None function_call=None similarity_score=None\n",
      "Result: Give cheesecake recipe [SYSTEM_NOTE: ROUTING: Low confidence match. No route found for the query. Provide default response for the query.]\n"
     ]
    }
   ],
   "source": [
    "# Example 5: Unrelated query (should trigger default fallback)\n",
    "query5 = \"Give cheesecake recipe\"\n",
    "print(f\"Query: \\\"{query5}\\\"\")\n",
    "result5 = semantic_layer(query5)\n",
    "print(f\"Result: {result5}\")\n"
   ]
  },
  {
   "cell_type": "markdown",
   "metadata": {},
   "source": [
    "## 🎯 Complete Demonstration (All 5 Examples)\n"
   ]
  },
  {
   "cell_type": "code",
   "execution_count": 6,
   "metadata": {},
   "outputs": [
    {
     "name": "stdout",
     "output_type": "stream",
     "text": [
      "🧪 Testing Semantic Routing System...\n",
      "📋 Route Configuration: 2 routes available\n",
      "🎯 Similarity Threshold: 0.7\n",
      "🤖 Embedding Model: Qwen/Qwen3-Embedding-0.6B\n",
      "🚀 SEMANTIC ROUTING EXAMPLES DEMONSTRATION\n",
      "============================================================\n",
      "\n",
      "📝 EXAMPLE 1: GREETINGS\n",
      "Query: \"Hi there! How are you doing today?\"\n",
      "Expected: Casual greeting that should route to greetings handler\n",
      "Route for the query Hi there! How are you doing today?: name='greetings' function_call=None similarity_score=np.float64(0.7550670203546611)\n",
      "✅ Detected Route: greetings\n",
      "📊 Confidence Score: 0.755\n",
      "🔄 Query with Note: Hi there! How are you doing today? [SYSTEM_NOTE: ROUTING: Query classified as greeting/casual conversation. No retrieval required - proceeding directly to LLM for response generation. [Confidence: 0.755]]\n",
      "------------------------------------------------------------\n",
      "\n",
      "📝 EXAMPLE 2: GREETINGS\n",
      "Query: \"Thank you for your help with this research!\"\n",
      "Expected: Gratitude expression that should route to greetings handler\n",
      "Route for the query Thank you for your help with this research!: name='greetings' function_call=None similarity_score=np.float64(0.7793124134237769)\n",
      "✅ Detected Route: greetings\n",
      "📊 Confidence Score: 0.779\n",
      "🔄 Query with Note: Thank you for your help with this research! [SYSTEM_NOTE: ROUTING: Query classified as greeting/casual conversation. No retrieval required - proceeding directly to LLM for response generation. [Confidence: 0.779]]\n",
      "------------------------------------------------------------\n",
      "\n",
      "📝 EXAMPLE 3: RESEARCH_PAPERS\n",
      "Query: \"What research papers discuss counterfactual generation and causal analysis methods?\"\n",
      "Expected: Analytics research query aligned with Analytics_2025_MC3G paper\n",
      "Route for the query What research papers discuss counterfactual generation and causal analysis methods?: name='research_papers' function_call=None similarity_score=np.float64(0.7684515359508179)\n",
      "✅ Detected Route: research_papers\n",
      "📊 Confidence Score: 0.768\n",
      "🔄 Query with Note: What research papers discuss counterfactual generation and causal analysis methods? [SYSTEM_NOTE: ROUTING: Query classified as research-related. Retrieval enabled - routing to Research Papers vector database for context extraction. [Confidence: 0.768]]\n",
      "------------------------------------------------------------\n",
      "\n",
      "📝 EXAMPLE 4: RESEARCH_PAPERS\n",
      "Query: \"Can you explain annotation-free segmentation techniques for remote sensing images?\"\n",
      "Expected: Computer vision query aligned with Computer_Vision_2025 paper\n",
      "Route for the query Can you explain annotation-free segmentation techniques for remote sensing images?: name='research_papers' function_call=None similarity_score=np.float64(0.7628852951012227)\n",
      "✅ Detected Route: research_papers\n",
      "📊 Confidence Score: 0.763\n",
      "🔄 Query with Note: Can you explain annotation-free segmentation techniques for remote sensing images? [SYSTEM_NOTE: ROUTING: Query classified as research-related. Retrieval enabled - routing to Research Papers vector database for context extraction. [Confidence: 0.763]]\n",
      "------------------------------------------------------------\n",
      "\n",
      "📝 EXAMPLE 5: DEFAULT_FALLBACK\n",
      "Query: \"Give cheesecake recipe\"\n",
      "Expected: Unrelated query that should trigger default fallback routing\n",
      "Route for the query Give cheesecake recipe: name=None function_call=None similarity_score=None\n",
      "✅ Detected Route: None\n",
      "📊 Confidence Score: None\n",
      "🔄 Query with Note: Give cheesecake recipe [SYSTEM_NOTE: ROUTING: Low confidence match. No route found for the query. Provide default response for the query.]\n",
      "------------------------------------------------------------\n",
      "\n",
      "📈 ROUTING SUMMARY:\n",
      "Total Examples: 5\n",
      "Successful Routes: 5\n",
      "Success Rate: 100.0%\n"
     ]
    }
   ],
   "source": [
    "# Run the complete demonstration with all 5 examples\n",
    "results = run_routing_examples()"
   ]
  },
  {
   "cell_type": "code",
   "execution_count": null,
   "metadata": {},
   "outputs": [],
   "source": []
  }
 ],
 "metadata": {
  "kernelspec": {
   "display_name": "Python 3 (ipykernel)",
   "language": "python",
   "name": "python3"
  },
  "language_info": {
   "codemirror_mode": {
    "name": "ipython",
    "version": 3
   },
   "file_extension": ".py",
   "mimetype": "text/x-python",
   "name": "python",
   "nbconvert_exporter": "python",
   "pygments_lexer": "ipython3",
   "version": "3.12.7"
  }
 },
 "nbformat": 4,
 "nbformat_minor": 4
}
