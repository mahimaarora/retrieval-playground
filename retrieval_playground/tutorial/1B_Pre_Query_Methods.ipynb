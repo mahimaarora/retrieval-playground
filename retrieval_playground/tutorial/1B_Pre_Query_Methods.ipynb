{
 "cells": [
  {
   "cell_type": "markdown",
   "metadata": {},
   "source": [
    "# Query Rephrasing Techniques Demo\n",
    "\n",
    "This notebook demonstrates different query rephrasing techniques used in retrieval systems to improve search quality and relevance.  \n",
    "\n",
    "## Overview\n",
    "\n",
    "We'll explore four main query processing techniques:\n",
    "\n",
    "**Query Expansion** – Add synonyms, related terms, or contextual entities  \n",
    "**Query Decomposition** – Break compound queries into atomic sub-queries  \n",
    "**Query Rewriting** – Make context-dependent queries standalone  \n",
    "**Self-Querying** – Transform complex input into optimal search queries  "
   ]
  },
  {
   "cell_type": "code",
   "execution_count": null,
   "metadata": {},
   "outputs": [],
   "source": [
    "# Import required modules\n",
    "from langchain.prompts import PromptTemplate\n",
    "from retrieval_playground.src.pre_retrieval.query_rephrasing import (\n",
    "    expand_query,\n",
    "    decompose_query,\n",
    "    rewrite_query,\n",
    "    self_query,\n",
    "    QUERY_EXAMPLES\n",
    ")"
   ]
  },
  {
   "cell_type": "markdown",
   "metadata": {},
   "source": [
    "## 1. Query Expansion \n",
    "\n",
    "**Purpose**: Expand queries by replacing abbreviations, adding context, or enriching with domain-specific terms.\n",
    "\n",
    "**When to use**: \n",
    "- Queries contain abbreviations or acronyms\n",
    "- Queries are too broad or vague\n",
    "- Queries lack domain-specific terms\n",
    "- Queries are incomplete questions or direct phrases\n"
   ]
  },
  {
   "cell_type": "code",
   "execution_count": null,
   "metadata": {},
   "outputs": [],
   "source": [
    "QUERY_EXPANSION_TEMPLATE = PromptTemplate(\n",
    "    input_variables=[\"query\"],\n",
    "        template=\"\"\"\n",
    "Given the query below, decide whether it needs expansion.  \n",
    "\n",
    "Expand the query if any of the following apply:  \n",
    "- It contains abbreviations or acronyms → replace them with their full forms.  \n",
    "- It is too broad or vague → add minimal context to make it retrieval-ready.  \n",
    "- It lacks domain-specific terms that are typically associated with the topic → enrich with relevant context.  \n",
    "- It is just a direct phrase or incomplete question → reframe it into a clear query/question suitable for retrieval.  \n",
    "\n",
    "If none of these apply, return the query exactly as it is.  \n",
    "\n",
    "The output should be a natural search query suitable for retrieval.  \n",
    "Do not include explanations, just return the final query text.  \n",
    "\n",
    "Query: {query}  \n",
    "Output:\n",
    "\"\"\"\n",
    ")\n",
    "\n",
    "\n",
    "print(\"=\" * 60)\n",
    "print(\"QUERY EXPANSION EXAMPLES\")\n",
    "print(\"=\" * 60)\n",
    "\n",
    "expansion_examples = QUERY_EXAMPLES[\"expansion\"]\n",
    "\n",
    "for i, example in enumerate(expansion_examples, 1):\n",
    "    query = example[\"query\"]\n",
    "    print(f\"\\n{i}. Original Query:\")\n",
    "    print(f\"   '{query}'\")\n",
    "    \n",
    "    try:\n",
    "        expanded = expand_query(query)\n",
    "        print(f\"\\n   Expanded Query:\")\n",
    "        print(f\"   '{expanded}'\")\n",
    "    except Exception as e:\n",
    "        print(f\"   Error: {e}\")\n",
    "    \n",
    "    print(\"-\" * 40)"
   ]
  },
  {
   "cell_type": "markdown",
   "metadata": {},
   "source": [
    "## 2. Query Decomposition\n",
    "\n",
    "**Purpose**: Break down complex queries with multiple intents into smaller, atomic sub-queries.\n",
    "\n",
    "**When to use**:\n",
    "- Queries contain multiple questions or intents\n",
    "- Compound queries that can be better answered separately\n",
    "- Complex queries that need to be processed independently\n"
   ]
  },
  {
   "cell_type": "code",
   "execution_count": null,
   "metadata": {},
   "outputs": [],
   "source": [
    "QUERY_DECOMPOSITION_TEMPLATE = PromptTemplate(\n",
    "    input_variables=[\"query\"],\n",
    "    template=\"\"\"\n",
    "Given the query below, check if it contains multiple intents or compound questions.  \n",
    "- If it does, break it down into smaller, atomic sub-queries.  \n",
    "- Each sub-query must be an independent, standalone query that can be retrieved without relying on the others.  \n",
    "- If not, return the query inside a single-item list.  \n",
    "\n",
    "Return only a valid Python list of sub-queries.  \n",
    "\n",
    "Query: {query}  \n",
    "Output:\n",
    "\"\"\"\n",
    ")\n",
    "\n",
    "print(\"=\" * 60)\n",
    "print(\"QUERY DECOMPOSITION EXAMPLES\")\n",
    "print(\"=\" * 60)\n",
    "\n",
    "decomposition_examples = QUERY_EXAMPLES[\"decomposition\"]\n",
    "\n",
    "for i, example in enumerate(decomposition_examples, 1):\n",
    "    query = example[\"query\"]\n",
    "    print(f\"\\n{i}. Original Complex Query:\")\n",
    "    print(f\"   '{query}'\")\n",
    "    \n",
    "    try:\n",
    "        sub_queries = decompose_query(query)\n",
    "        print(f\"\\nDecomposed Sub-queries:\")\n",
    "        for j, sub_query in enumerate(sub_queries, 1):\n",
    "            sub_query = sub_query.replace(\"```python\", \"\")\n",
    "            sub_query = sub_query.replace(\"```\", \"\")\n",
    "            sub_query = sub_query.strip()\n",
    "            print(sub_query)\n",
    "    except Exception as e:\n",
    "        print(f\"   Error: {e}\")\n",
    "    \n",
    "    print(\"-\" * 40)\n"
   ]
  },
  {
   "cell_type": "markdown",
   "metadata": {},
   "source": [
    "## 3. Query Rewriting\n",
    "\n",
    "**Purpose**: Transform context-dependent queries into standalone queries suitable for retrieval.\n",
    "\n",
    "**When to use**:\n",
    "- Queries contain pronouns or references to previous context\n",
    "- Follow-up questions in conversations\n",
    "- Incomplete queries that depend on prior information\n"
   ]
  },
  {
   "cell_type": "code",
   "execution_count": null,
   "metadata": {},
   "outputs": [],
   "source": [
    "QUERY_REWRITING_TEMPLATE = PromptTemplate(\n",
    "    input_variables=[\"query\", \"previous_conversation_history\"],\n",
    "    template=\"\"\"\n",
    "Given the current query and the previous conversation history:  \n",
    "- If the query depends on prior context (e.g., pronouns, references, incomplete information), rewrite it into a clear, standalone query suitable for retrieval.  \n",
    "- If it does not depend on prior context, return the query unchanged.  \n",
    "\n",
    "Return only the final query text, without explanation or formatting.  \n",
    "\n",
    "Query: {query}  \n",
    "Previous conversation history: {previous_conversation_history}  \n",
    "Output:\n",
    "\"\"\"\n",
    ")\n",
    "\n",
    "print(\"=\" * 60)\n",
    "print(\"QUERY REWRITING EXAMPLES\")\n",
    "print(\"=\" * 60)\n",
    "\n",
    "rewriting_examples = QUERY_EXAMPLES[\"rewriting\"]\n",
    "\n",
    "for i, example in enumerate(rewriting_examples, 1):\n",
    "    query = example[\"query\"]\n",
    "    context = example[\"previous_conversation_history\"]\n",
    "    \n",
    "    print(f\"\\n{i}. Context-Dependent Query:\")\n",
    "    print(f\"   '{query}'\")\n",
    "    \n",
    "    print(f\"\\nPrevious Context:\")\n",
    "    print(f\"   {context}\")\n",
    "    \n",
    "    try:\n",
    "        rewritten = rewrite_query(query, context)\n",
    "        print(f\"\\nStandalone Query:\")\n",
    "        print(f\"   '{rewritten}'\")\n",
    "    except Exception as e:\n",
    "        print(f\"   Error: {e}\")\n",
    "    \n",
    "    print(\"-\" * 40)"
   ]
  },
  {
   "cell_type": "markdown",
   "metadata": {},
   "source": [
    "## 4. Self-Querying \n",
    "\n",
    "**Purpose**: Transform complex user input into optimal search queries for retrieval.\n",
    "\n",
    "**When to use**:\n",
    "- Complex, multi-faceted user requests\n",
    "- When you need to generate multiple focused search queries\n",
    "- To optimize retrieval by creating targeted queries\n"
   ]
  },
  {
   "cell_type": "code",
   "execution_count": null,
   "metadata": {
    "scrolled": true
   },
   "outputs": [],
   "source": [
    "# Self-querying prompt template\n",
    "SELF_QUERYING_TEMPLATE = PromptTemplate(\n",
    "    input_variables=[\"query\"],\n",
    "    template=\"\"\"\n",
    "Transform the input into a set of optimal search queries for retrieval.  \n",
    "- Queries should be clear, focused, and aligned with the user’s intent.  \n",
    "- Each query must be independent and standalone.  \n",
    "\n",
    "Return only a valid Python list of search queries.  \n",
    "\n",
    "Input: {query}  \n",
    "Output:\n",
    "\"\"\"\n",
    ")\n",
    "\n",
    "print(\"=\" * 60)\n",
    "print(\"SELF-QUERYING EXAMPLES\")\n",
    "print(\"=\" * 60)\n",
    "\n",
    "self_querying_examples = QUERY_EXAMPLES[\"self_querying\"]\n",
    "\n",
    "for i, example in enumerate(self_querying_examples, 1):\n",
    "    query = example[\"query\"]\n",
    "    print(f\"\\n{i}. Complex User Input:\")\n",
    "    print(f\"   '{query}'\")\n",
    "    \n",
    "    try:\n",
    "        search_queries = self_query(query)\n",
    "        print(f\"\\nOptimal Search Queries:\")\n",
    "        for j, search_query in enumerate(search_queries, 1):\n",
    "            search_query = search_query.replace(\"```python\", \"\")\n",
    "            search_query = search_query.replace(\"```\", \"\")\n",
    "            print(f\"   {search_query}\")\n",
    "    except Exception as e:\n",
    "        print(f\"   Error: {e}\")\n",
    "    \n",
    "    print(\"-\" * 40)\n"
   ]
  },
  {
   "cell_type": "markdown",
   "metadata": {},
   "source": [
    "## Testing Section\n",
    "\n",
    "You can try out the functions below with your own queries by modifying the `test_query` and `test_context` variables.  \n",
    "This will help you experiment with **query expansion**, **query decomposition**, **query rewriting**, and **self-querying** techniques.  \n",
    "\n",
    "\n",
    "```python\n",
    "\n",
    "# Test your own query expansion\n",
    "test_query = \"AI models\"  \n",
    "\n",
    "print(f\"Original: {test_query}\")\n",
    "print(f\"Expanded: {expand_query(test_query)}\")\n",
    "\n",
    "\n",
    "# Test your own query decomposition\n",
    "test_query = \"What are neural networks and how do they work?\"  \n",
    "\n",
    "print(f\"Original: {test_query}\")\n",
    "sub_queries = decompose_query(test_query)\n",
    "print(\"Sub-queries:\")\n",
    "for i, sq in enumerate(sub_queries, 1):\n",
    "    print(f\"{i}. {sq}\")\n",
    "\n",
    "\n",
    "# Test your own query rewriting\n",
    "test_query = \"How does it work?\"  \n",
    "test_context = \"User asked about neural networks\"  \n",
    "\n",
    "print(f\"\\nContext-dependent: {test_query}\")\n",
    "print(f\"Context: {test_context}\")\n",
    "print(f\"Standalone: {rewrite_query(test_query, test_context)}\")\n",
    "\n",
    "\n",
    "# Test your own self-querying\n",
    "test_query = \"I want to learn about machine learning\"  \n",
    "\n",
    "print(f\"\\nComplex input: {test_query}\")\n",
    "search_queries = self_query(test_query)\n",
    "print(\"Optimal search queries:\")\n",
    "for i, sq in enumerate(search_queries, 1):\n",
    "    print(f\"{i}. {sq}\")\n"
   ]
  },
  {
   "cell_type": "markdown",
   "metadata": {
    "jp-MarkdownHeadingCollapsed": true
   },
   "source": [
    "## Summary\n",
    "\n",
    "This notebook demonstrated four key query rephrasing techniques:  \n",
    "\n",
    "| Method              | Complexity | Recall   | Precision | Best For                                     |\n",
    "| ------------------- | ---------- | -------- | --------- | -------------------------------------------- |\n",
    "| Query Expansion     | Low        | High     | Moderate  | Broad topics, exploratory searches           |\n",
    "| Query Decomposition | Medium     | Moderate | High      | Complex queries, multi-part questions        |\n",
    "| Query Rewriting     | Medium     | Moderate | High      | Ambiguous or poorly-formed queries           |\n",
    "| Self-Querying       | High       | High     | High      | Ambiguous queries, domain-specific knowledge |\n",
    "\n",
    "\n",
    "**Query Expansion**: Enriches queries with additional context and domain-specific terms  \n",
    "**Query Decomposition**: Breaks complex multi-intent queries into focused sub-queries  \n",
    "**Query Rewriting**: Makes context-dependent queries standalone for better retrieval  \n",
    "**Self-Querying**: Transforms complex user inputs into optimized search queries  \n",
    "\n",
    "These techniques help improve retrieval quality by ensuring queries are:  \n",
    "- Clear and specific  \n",
    "- Context-independent  \n",
    "- Properly scoped  \n",
    "- Optimized for search  \n",
    "\n"
   ]
  },
  {
   "cell_type": "markdown",
   "metadata": {},
   "source": [
    "# Semantic Routing Demonstration\n",
    "\n",
    "Demonstration of the semantic routing system with different example queries:"
   ]
  },
  {
   "cell_type": "code",
   "execution_count": null,
   "metadata": {},
   "outputs": [],
   "source": [
    "# Import required modules\n",
    "import sys\n",
    "import os\n",
    "sys.path.append(os.getcwd())\n",
    "\n",
    "from retrieval_playground.src.pre_retrieval.routing import (\n",
    "    semantic_layer, \n",
    "    run_routing_examples,\n",
    "    get_route_info\n",
    ")"
   ]
  },
  {
   "cell_type": "markdown",
   "metadata": {},
   "source": [
    "## 📍 Route"
   ]
  },
  {
   "cell_type": "code",
   "execution_count": null,
   "metadata": {},
   "outputs": [],
   "source": [
    "get_route_info()"
   ]
  },
  {
   "cell_type": "markdown",
   "metadata": {},
   "source": [
    "![Routing](../utils/images/routing.svg)"
   ]
  },
  {
   "cell_type": "markdown",
   "metadata": {},
   "source": [
    "## 👋 Example: Greeting Queries "
   ]
  },
  {
   "cell_type": "code",
   "execution_count": null,
   "metadata": {},
   "outputs": [],
   "source": [
    "# Example 1: Casual greeting\n",
    "query1 = \"Hi there! How are you doing today?\"\n",
    "print(f\"Query: \\\"{query1}\\\"\")\n",
    "result1 = semantic_layer(query1)\n",
    "print(f\"Result: {result1}\")\n",
    "print(\"\\n\" + \"=\"*60 + \"\\n\")\n",
    "\n",
    "# Example 2: Gratitude expression  \n",
    "query2 = \"Thank you for your help with this research!\"\n",
    "print(f\"Query: \\\"{query2}\\\"\")\n",
    "result2 = semantic_layer(query2)\n",
    "print(f\"Result: {result2}\")\n"
   ]
  },
  {
   "cell_type": "markdown",
   "metadata": {},
   "source": [
    "## 📚 Example: Research Papers Queries"
   ]
  },
  {
   "cell_type": "code",
   "execution_count": null,
   "metadata": {},
   "outputs": [],
   "source": [
    "# Example 3: Analytics/Causal Analysis query\n",
    "query3 = \"What research papers discuss counterfactual generation and causal analysis methods?\"\n",
    "print(f\"Query: \\\"{query3}\\\"\")\n",
    "result3 = semantic_layer(query3)\n",
    "print(f\"Result: {result3}\")\n",
    "print(\"\\n\" + \"=\"*60 + \"\\n\")\n",
    "\n",
    "# Example 4: Computer Vision/Remote Sensing query\n",
    "query4 = \"Can you explain annotation-free segmentation techniques for remote sensing images?\"\n",
    "print(f\"Query: \\\"{query4}\\\"\")\n",
    "result4 = semantic_layer(query4)\n",
    "print(f\"Result: {result4}\")\n"
   ]
  },
  {
   "cell_type": "markdown",
   "metadata": {},
   "source": [
    "## 🔄 Example: Default Fallback Query"
   ]
  },
  {
   "cell_type": "code",
   "execution_count": null,
   "metadata": {},
   "outputs": [],
   "source": [
    "# Example 5: Unrelated query (should trigger default fallback)\n",
    "query5 = \"Give cheesecake recipe\"\n",
    "print(f\"Query: \\\"{query5}\\\"\")\n",
    "result5 = semantic_layer(query5)\n",
    "print(f\"Result: {result5}\")"
   ]
  },
  {
   "cell_type": "markdown",
   "metadata": {},
   "source": [
    "## Complete Demonstration (All 5 Examples)"
   ]
  },
  {
   "cell_type": "code",
   "execution_count": null,
   "metadata": {},
   "outputs": [],
   "source": [
    "# Run the complete demonstration with all 5 examples\n",
    "results = run_routing_examples()"
   ]
  },
  {
   "cell_type": "code",
   "execution_count": null,
   "metadata": {},
   "outputs": [],
   "source": []
  },
  {
   "cell_type": "code",
   "execution_count": null,
   "metadata": {},
   "outputs": [],
   "source": []
  }
 ],
 "metadata": {
  "kernelspec": {
   "display_name": "pydata_tutorial",
   "language": "python",
   "name": "venv"
  },
  "language_info": {
   "codemirror_mode": {
    "name": "ipython",
    "version": 3
   },
   "file_extension": ".py",
   "mimetype": "text/x-python",
   "name": "python",
   "nbconvert_exporter": "python",
   "pygments_lexer": "ipython3",
   "version": "3.12.7"
  }
 },
 "nbformat": 4,
 "nbformat_minor": 4
}
